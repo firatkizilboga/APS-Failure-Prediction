{
 "cells": [
  {
   "cell_type": "code",
   "execution_count": 1,
   "metadata": {},
   "outputs": [],
   "source": [
    "import numpy as np\n",
    "import pandas as pd"
   ]
  },
  {
   "cell_type": "code",
   "execution_count": 2,
   "metadata": {},
   "outputs": [
    {
     "data": {
      "text/plain": [
       "0            1\n",
       "1            2\n",
       "2            3\n",
       "3            4\n",
       "4            5\n",
       "         ...  \n",
       "59995    59996\n",
       "59996    59997\n",
       "59997    59998\n",
       "59998    59999\n",
       "59999    60000\n",
       "Name: id, Length: 60000, dtype: int64"
      ]
     },
     "execution_count": 2,
     "metadata": {},
     "output_type": "execute_result"
    }
   ],
   "source": [
    "train_df = pd.read_csv('data/aps_failure_training_set.csv')\n",
    "train_df.pop('id')"
   ]
  },
  {
   "cell_type": "code",
   "execution_count": 3,
   "metadata": {},
   "outputs": [
    {
     "data": {
      "text/html": [
       "<div>\n",
       "<style scoped>\n",
       "    .dataframe tbody tr th:only-of-type {\n",
       "        vertical-align: middle;\n",
       "    }\n",
       "\n",
       "    .dataframe tbody tr th {\n",
       "        vertical-align: top;\n",
       "    }\n",
       "\n",
       "    .dataframe thead th {\n",
       "        text-align: right;\n",
       "    }\n",
       "</style>\n",
       "<table border=\"1\" class=\"dataframe\">\n",
       "  <thead>\n",
       "    <tr style=\"text-align: right;\">\n",
       "      <th></th>\n",
       "      <th>class</th>\n",
       "      <th>aa_000</th>\n",
       "      <th>ab_000</th>\n",
       "      <th>ac_000</th>\n",
       "      <th>ad_000</th>\n",
       "      <th>ae_000</th>\n",
       "      <th>af_000</th>\n",
       "      <th>ag_000</th>\n",
       "      <th>ag_001</th>\n",
       "      <th>ag_002</th>\n",
       "      <th>...</th>\n",
       "      <th>ee_002</th>\n",
       "      <th>ee_003</th>\n",
       "      <th>ee_004</th>\n",
       "      <th>ee_005</th>\n",
       "      <th>ee_006</th>\n",
       "      <th>ee_007</th>\n",
       "      <th>ee_008</th>\n",
       "      <th>ee_009</th>\n",
       "      <th>ef_000</th>\n",
       "      <th>eg_000</th>\n",
       "    </tr>\n",
       "  </thead>\n",
       "  <tbody>\n",
       "    <tr>\n",
       "      <th>0</th>\n",
       "      <td>neg</td>\n",
       "      <td>76698</td>\n",
       "      <td>na</td>\n",
       "      <td>2130706438</td>\n",
       "      <td>280</td>\n",
       "      <td>0</td>\n",
       "      <td>0</td>\n",
       "      <td>0</td>\n",
       "      <td>0</td>\n",
       "      <td>0</td>\n",
       "      <td>...</td>\n",
       "      <td>1240520</td>\n",
       "      <td>493384</td>\n",
       "      <td>721044</td>\n",
       "      <td>469792</td>\n",
       "      <td>339156</td>\n",
       "      <td>157956</td>\n",
       "      <td>73224</td>\n",
       "      <td>0</td>\n",
       "      <td>0</td>\n",
       "      <td>0</td>\n",
       "    </tr>\n",
       "    <tr>\n",
       "      <th>1</th>\n",
       "      <td>neg</td>\n",
       "      <td>33058</td>\n",
       "      <td>na</td>\n",
       "      <td>0</td>\n",
       "      <td>na</td>\n",
       "      <td>0</td>\n",
       "      <td>0</td>\n",
       "      <td>0</td>\n",
       "      <td>0</td>\n",
       "      <td>0</td>\n",
       "      <td>...</td>\n",
       "      <td>421400</td>\n",
       "      <td>178064</td>\n",
       "      <td>293306</td>\n",
       "      <td>245416</td>\n",
       "      <td>133654</td>\n",
       "      <td>81140</td>\n",
       "      <td>97576</td>\n",
       "      <td>1500</td>\n",
       "      <td>0</td>\n",
       "      <td>0</td>\n",
       "    </tr>\n",
       "    <tr>\n",
       "      <th>2</th>\n",
       "      <td>neg</td>\n",
       "      <td>41040</td>\n",
       "      <td>na</td>\n",
       "      <td>228</td>\n",
       "      <td>100</td>\n",
       "      <td>0</td>\n",
       "      <td>0</td>\n",
       "      <td>0</td>\n",
       "      <td>0</td>\n",
       "      <td>0</td>\n",
       "      <td>...</td>\n",
       "      <td>277378</td>\n",
       "      <td>159812</td>\n",
       "      <td>423992</td>\n",
       "      <td>409564</td>\n",
       "      <td>320746</td>\n",
       "      <td>158022</td>\n",
       "      <td>95128</td>\n",
       "      <td>514</td>\n",
       "      <td>0</td>\n",
       "      <td>0</td>\n",
       "    </tr>\n",
       "    <tr>\n",
       "      <th>3</th>\n",
       "      <td>neg</td>\n",
       "      <td>12</td>\n",
       "      <td>0</td>\n",
       "      <td>70</td>\n",
       "      <td>66</td>\n",
       "      <td>0</td>\n",
       "      <td>10</td>\n",
       "      <td>0</td>\n",
       "      <td>0</td>\n",
       "      <td>0</td>\n",
       "      <td>...</td>\n",
       "      <td>240</td>\n",
       "      <td>46</td>\n",
       "      <td>58</td>\n",
       "      <td>44</td>\n",
       "      <td>10</td>\n",
       "      <td>0</td>\n",
       "      <td>0</td>\n",
       "      <td>0</td>\n",
       "      <td>4</td>\n",
       "      <td>32</td>\n",
       "    </tr>\n",
       "    <tr>\n",
       "      <th>4</th>\n",
       "      <td>neg</td>\n",
       "      <td>60874</td>\n",
       "      <td>na</td>\n",
       "      <td>1368</td>\n",
       "      <td>458</td>\n",
       "      <td>0</td>\n",
       "      <td>0</td>\n",
       "      <td>0</td>\n",
       "      <td>0</td>\n",
       "      <td>0</td>\n",
       "      <td>...</td>\n",
       "      <td>622012</td>\n",
       "      <td>229790</td>\n",
       "      <td>405298</td>\n",
       "      <td>347188</td>\n",
       "      <td>286954</td>\n",
       "      <td>311560</td>\n",
       "      <td>433954</td>\n",
       "      <td>1218</td>\n",
       "      <td>0</td>\n",
       "      <td>0</td>\n",
       "    </tr>\n",
       "    <tr>\n",
       "      <th>...</th>\n",
       "      <td>...</td>\n",
       "      <td>...</td>\n",
       "      <td>...</td>\n",
       "      <td>...</td>\n",
       "      <td>...</td>\n",
       "      <td>...</td>\n",
       "      <td>...</td>\n",
       "      <td>...</td>\n",
       "      <td>...</td>\n",
       "      <td>...</td>\n",
       "      <td>...</td>\n",
       "      <td>...</td>\n",
       "      <td>...</td>\n",
       "      <td>...</td>\n",
       "      <td>...</td>\n",
       "      <td>...</td>\n",
       "      <td>...</td>\n",
       "      <td>...</td>\n",
       "      <td>...</td>\n",
       "      <td>...</td>\n",
       "      <td>...</td>\n",
       "    </tr>\n",
       "    <tr>\n",
       "      <th>59995</th>\n",
       "      <td>neg</td>\n",
       "      <td>153002</td>\n",
       "      <td>na</td>\n",
       "      <td>664</td>\n",
       "      <td>186</td>\n",
       "      <td>0</td>\n",
       "      <td>0</td>\n",
       "      <td>0</td>\n",
       "      <td>0</td>\n",
       "      <td>0</td>\n",
       "      <td>...</td>\n",
       "      <td>998500</td>\n",
       "      <td>566884</td>\n",
       "      <td>1290398</td>\n",
       "      <td>1218244</td>\n",
       "      <td>1019768</td>\n",
       "      <td>717762</td>\n",
       "      <td>898642</td>\n",
       "      <td>28588</td>\n",
       "      <td>0</td>\n",
       "      <td>0</td>\n",
       "    </tr>\n",
       "    <tr>\n",
       "      <th>59996</th>\n",
       "      <td>neg</td>\n",
       "      <td>2286</td>\n",
       "      <td>na</td>\n",
       "      <td>2130706538</td>\n",
       "      <td>224</td>\n",
       "      <td>0</td>\n",
       "      <td>0</td>\n",
       "      <td>0</td>\n",
       "      <td>0</td>\n",
       "      <td>0</td>\n",
       "      <td>...</td>\n",
       "      <td>10578</td>\n",
       "      <td>6760</td>\n",
       "      <td>21126</td>\n",
       "      <td>68424</td>\n",
       "      <td>136</td>\n",
       "      <td>0</td>\n",
       "      <td>0</td>\n",
       "      <td>0</td>\n",
       "      <td>0</td>\n",
       "      <td>0</td>\n",
       "    </tr>\n",
       "    <tr>\n",
       "      <th>59997</th>\n",
       "      <td>neg</td>\n",
       "      <td>112</td>\n",
       "      <td>0</td>\n",
       "      <td>2130706432</td>\n",
       "      <td>18</td>\n",
       "      <td>0</td>\n",
       "      <td>0</td>\n",
       "      <td>0</td>\n",
       "      <td>0</td>\n",
       "      <td>0</td>\n",
       "      <td>...</td>\n",
       "      <td>792</td>\n",
       "      <td>386</td>\n",
       "      <td>452</td>\n",
       "      <td>144</td>\n",
       "      <td>146</td>\n",
       "      <td>2622</td>\n",
       "      <td>0</td>\n",
       "      <td>0</td>\n",
       "      <td>0</td>\n",
       "      <td>0</td>\n",
       "    </tr>\n",
       "    <tr>\n",
       "      <th>59998</th>\n",
       "      <td>neg</td>\n",
       "      <td>80292</td>\n",
       "      <td>na</td>\n",
       "      <td>2130706432</td>\n",
       "      <td>494</td>\n",
       "      <td>0</td>\n",
       "      <td>0</td>\n",
       "      <td>0</td>\n",
       "      <td>0</td>\n",
       "      <td>0</td>\n",
       "      <td>...</td>\n",
       "      <td>699352</td>\n",
       "      <td>222654</td>\n",
       "      <td>347378</td>\n",
       "      <td>225724</td>\n",
       "      <td>194440</td>\n",
       "      <td>165070</td>\n",
       "      <td>802280</td>\n",
       "      <td>388422</td>\n",
       "      <td>0</td>\n",
       "      <td>0</td>\n",
       "    </tr>\n",
       "    <tr>\n",
       "      <th>59999</th>\n",
       "      <td>neg</td>\n",
       "      <td>40222</td>\n",
       "      <td>na</td>\n",
       "      <td>698</td>\n",
       "      <td>628</td>\n",
       "      <td>0</td>\n",
       "      <td>0</td>\n",
       "      <td>0</td>\n",
       "      <td>0</td>\n",
       "      <td>0</td>\n",
       "      <td>...</td>\n",
       "      <td>440066</td>\n",
       "      <td>183200</td>\n",
       "      <td>344546</td>\n",
       "      <td>254068</td>\n",
       "      <td>225148</td>\n",
       "      <td>158304</td>\n",
       "      <td>170384</td>\n",
       "      <td>158</td>\n",
       "      <td>0</td>\n",
       "      <td>0</td>\n",
       "    </tr>\n",
       "  </tbody>\n",
       "</table>\n",
       "<p>60000 rows × 171 columns</p>\n",
       "</div>"
      ],
      "text/plain": [
       "      class  aa_000 ab_000      ac_000 ad_000 ae_000 af_000 ag_000 ag_001  \\\n",
       "0       neg   76698     na  2130706438    280      0      0      0      0   \n",
       "1       neg   33058     na           0     na      0      0      0      0   \n",
       "2       neg   41040     na         228    100      0      0      0      0   \n",
       "3       neg      12      0          70     66      0     10      0      0   \n",
       "4       neg   60874     na        1368    458      0      0      0      0   \n",
       "...     ...     ...    ...         ...    ...    ...    ...    ...    ...   \n",
       "59995   neg  153002     na         664    186      0      0      0      0   \n",
       "59996   neg    2286     na  2130706538    224      0      0      0      0   \n",
       "59997   neg     112      0  2130706432     18      0      0      0      0   \n",
       "59998   neg   80292     na  2130706432    494      0      0      0      0   \n",
       "59999   neg   40222     na         698    628      0      0      0      0   \n",
       "\n",
       "      ag_002  ...   ee_002  ee_003   ee_004   ee_005   ee_006  ee_007  ee_008  \\\n",
       "0          0  ...  1240520  493384   721044   469792   339156  157956   73224   \n",
       "1          0  ...   421400  178064   293306   245416   133654   81140   97576   \n",
       "2          0  ...   277378  159812   423992   409564   320746  158022   95128   \n",
       "3          0  ...      240      46       58       44       10       0       0   \n",
       "4          0  ...   622012  229790   405298   347188   286954  311560  433954   \n",
       "...      ...  ...      ...     ...      ...      ...      ...     ...     ...   \n",
       "59995      0  ...   998500  566884  1290398  1218244  1019768  717762  898642   \n",
       "59996      0  ...    10578    6760    21126    68424      136       0       0   \n",
       "59997      0  ...      792     386      452      144      146    2622       0   \n",
       "59998      0  ...   699352  222654   347378   225724   194440  165070  802280   \n",
       "59999      0  ...   440066  183200   344546   254068   225148  158304  170384   \n",
       "\n",
       "       ee_009 ef_000 eg_000  \n",
       "0           0      0      0  \n",
       "1        1500      0      0  \n",
       "2         514      0      0  \n",
       "3           0      4     32  \n",
       "4        1218      0      0  \n",
       "...       ...    ...    ...  \n",
       "59995   28588      0      0  \n",
       "59996       0      0      0  \n",
       "59997       0      0      0  \n",
       "59998  388422      0      0  \n",
       "59999     158      0      0  \n",
       "\n",
       "[60000 rows x 171 columns]"
      ]
     },
     "execution_count": 3,
     "metadata": {},
     "output_type": "execute_result"
    }
   ],
   "source": [
    "train_df"
   ]
  },
  {
   "cell_type": "code",
   "execution_count": 4,
   "metadata": {},
   "outputs": [],
   "source": [
    "cols = pd.Series(train_df.columns)"
   ]
  },
  {
   "cell_type": "code",
   "execution_count": 5,
   "metadata": {},
   "outputs": [],
   "source": [
    "counts = cols.apply(lambda x: x.split(\"_\")[0]).value_counts().to_dict()\n",
    "categorical_cols_idx = cols.apply(\n",
    "    lambda x: True if counts[x.split(\"_\")[0]] > 1 else False)"
   ]
  },
  {
   "cell_type": "code",
   "execution_count": 6,
   "metadata": {},
   "outputs": [],
   "source": [
    "#get the columns that are categorical\n",
    "categorical_cols = cols[categorical_cols_idx]"
   ]
  },
  {
   "cell_type": "code",
   "execution_count": 7,
   "metadata": {},
   "outputs": [
    {
     "data": {
      "text/plain": [
       "7      ag_000\n",
       "8      ag_001\n",
       "9      ag_002\n",
       "10     ag_003\n",
       "11     ag_004\n",
       "        ...  \n",
       "164    ee_005\n",
       "165    ee_006\n",
       "166    ee_007\n",
       "167    ee_008\n",
       "168    ee_009\n",
       "Length: 70, dtype: object"
      ]
     },
     "execution_count": 7,
     "metadata": {},
     "output_type": "execute_result"
    }
   ],
   "source": [
    "categorical_cols"
   ]
  },
  {
   "cell_type": "code",
   "execution_count": 8,
   "metadata": {},
   "outputs": [
    {
     "data": {
      "text/html": [
       "<div>\n",
       "<style scoped>\n",
       "    .dataframe tbody tr th:only-of-type {\n",
       "        vertical-align: middle;\n",
       "    }\n",
       "\n",
       "    .dataframe tbody tr th {\n",
       "        vertical-align: top;\n",
       "    }\n",
       "\n",
       "    .dataframe thead th {\n",
       "        text-align: right;\n",
       "    }\n",
       "</style>\n",
       "<table border=\"1\" class=\"dataframe\">\n",
       "  <thead>\n",
       "    <tr style=\"text-align: right;\">\n",
       "      <th></th>\n",
       "      <th>ag_000</th>\n",
       "      <th>ag_001</th>\n",
       "      <th>ag_002</th>\n",
       "      <th>ag_003</th>\n",
       "      <th>ag_004</th>\n",
       "      <th>ag_005</th>\n",
       "      <th>ag_006</th>\n",
       "      <th>ag_007</th>\n",
       "      <th>ag_008</th>\n",
       "      <th>ag_009</th>\n",
       "      <th>...</th>\n",
       "      <th>ee_000</th>\n",
       "      <th>ee_001</th>\n",
       "      <th>ee_002</th>\n",
       "      <th>ee_003</th>\n",
       "      <th>ee_004</th>\n",
       "      <th>ee_005</th>\n",
       "      <th>ee_006</th>\n",
       "      <th>ee_007</th>\n",
       "      <th>ee_008</th>\n",
       "      <th>ee_009</th>\n",
       "    </tr>\n",
       "  </thead>\n",
       "  <tbody>\n",
       "    <tr>\n",
       "      <th>0</th>\n",
       "      <td>0</td>\n",
       "      <td>0</td>\n",
       "      <td>0</td>\n",
       "      <td>0</td>\n",
       "      <td>37250</td>\n",
       "      <td>1432864</td>\n",
       "      <td>3664156</td>\n",
       "      <td>1007684</td>\n",
       "      <td>25896</td>\n",
       "      <td>0</td>\n",
       "      <td>...</td>\n",
       "      <td>965866</td>\n",
       "      <td>1706908</td>\n",
       "      <td>1240520</td>\n",
       "      <td>493384</td>\n",
       "      <td>721044</td>\n",
       "      <td>469792</td>\n",
       "      <td>339156</td>\n",
       "      <td>157956</td>\n",
       "      <td>73224</td>\n",
       "      <td>0</td>\n",
       "    </tr>\n",
       "    <tr>\n",
       "      <th>1</th>\n",
       "      <td>0</td>\n",
       "      <td>0</td>\n",
       "      <td>0</td>\n",
       "      <td>0</td>\n",
       "      <td>18254</td>\n",
       "      <td>653294</td>\n",
       "      <td>1720800</td>\n",
       "      <td>516724</td>\n",
       "      <td>31642</td>\n",
       "      <td>0</td>\n",
       "      <td>...</td>\n",
       "      <td>664504</td>\n",
       "      <td>824154</td>\n",
       "      <td>421400</td>\n",
       "      <td>178064</td>\n",
       "      <td>293306</td>\n",
       "      <td>245416</td>\n",
       "      <td>133654</td>\n",
       "      <td>81140</td>\n",
       "      <td>97576</td>\n",
       "      <td>1500</td>\n",
       "    </tr>\n",
       "    <tr>\n",
       "      <th>2</th>\n",
       "      <td>0</td>\n",
       "      <td>0</td>\n",
       "      <td>0</td>\n",
       "      <td>0</td>\n",
       "      <td>1648</td>\n",
       "      <td>370592</td>\n",
       "      <td>1883374</td>\n",
       "      <td>292936</td>\n",
       "      <td>12016</td>\n",
       "      <td>0</td>\n",
       "      <td>...</td>\n",
       "      <td>262032</td>\n",
       "      <td>453378</td>\n",
       "      <td>277378</td>\n",
       "      <td>159812</td>\n",
       "      <td>423992</td>\n",
       "      <td>409564</td>\n",
       "      <td>320746</td>\n",
       "      <td>158022</td>\n",
       "      <td>95128</td>\n",
       "      <td>514</td>\n",
       "    </tr>\n",
       "    <tr>\n",
       "      <th>3</th>\n",
       "      <td>0</td>\n",
       "      <td>0</td>\n",
       "      <td>0</td>\n",
       "      <td>318</td>\n",
       "      <td>2212</td>\n",
       "      <td>3232</td>\n",
       "      <td>1872</td>\n",
       "      <td>0</td>\n",
       "      <td>0</td>\n",
       "      <td>0</td>\n",
       "      <td>...</td>\n",
       "      <td>5670</td>\n",
       "      <td>1566</td>\n",
       "      <td>240</td>\n",
       "      <td>46</td>\n",
       "      <td>58</td>\n",
       "      <td>44</td>\n",
       "      <td>10</td>\n",
       "      <td>0</td>\n",
       "      <td>0</td>\n",
       "      <td>0</td>\n",
       "    </tr>\n",
       "    <tr>\n",
       "      <th>4</th>\n",
       "      <td>0</td>\n",
       "      <td>0</td>\n",
       "      <td>0</td>\n",
       "      <td>0</td>\n",
       "      <td>43752</td>\n",
       "      <td>1966618</td>\n",
       "      <td>1800340</td>\n",
       "      <td>131646</td>\n",
       "      <td>4588</td>\n",
       "      <td>0</td>\n",
       "      <td>...</td>\n",
       "      <td>404740</td>\n",
       "      <td>904230</td>\n",
       "      <td>622012</td>\n",
       "      <td>229790</td>\n",
       "      <td>405298</td>\n",
       "      <td>347188</td>\n",
       "      <td>286954</td>\n",
       "      <td>311560</td>\n",
       "      <td>433954</td>\n",
       "      <td>1218</td>\n",
       "    </tr>\n",
       "    <tr>\n",
       "      <th>...</th>\n",
       "      <td>...</td>\n",
       "      <td>...</td>\n",
       "      <td>...</td>\n",
       "      <td>...</td>\n",
       "      <td>...</td>\n",
       "      <td>...</td>\n",
       "      <td>...</td>\n",
       "      <td>...</td>\n",
       "      <td>...</td>\n",
       "      <td>...</td>\n",
       "      <td>...</td>\n",
       "      <td>...</td>\n",
       "      <td>...</td>\n",
       "      <td>...</td>\n",
       "      <td>...</td>\n",
       "      <td>...</td>\n",
       "      <td>...</td>\n",
       "      <td>...</td>\n",
       "      <td>...</td>\n",
       "      <td>...</td>\n",
       "      <td>...</td>\n",
       "    </tr>\n",
       "    <tr>\n",
       "      <th>59995</th>\n",
       "      <td>0</td>\n",
       "      <td>0</td>\n",
       "      <td>0</td>\n",
       "      <td>2564</td>\n",
       "      <td>59100</td>\n",
       "      <td>1603216</td>\n",
       "      <td>6015982</td>\n",
       "      <td>1968266</td>\n",
       "      <td>164972</td>\n",
       "      <td>12560</td>\n",
       "      <td>...</td>\n",
       "      <td>1608808</td>\n",
       "      <td>1479066</td>\n",
       "      <td>998500</td>\n",
       "      <td>566884</td>\n",
       "      <td>1290398</td>\n",
       "      <td>1218244</td>\n",
       "      <td>1019768</td>\n",
       "      <td>717762</td>\n",
       "      <td>898642</td>\n",
       "      <td>28588</td>\n",
       "    </tr>\n",
       "    <tr>\n",
       "      <th>59996</th>\n",
       "      <td>0</td>\n",
       "      <td>0</td>\n",
       "      <td>0</td>\n",
       "      <td>0</td>\n",
       "      <td>104</td>\n",
       "      <td>99186</td>\n",
       "      <td>36564</td>\n",
       "      <td>128</td>\n",
       "      <td>0</td>\n",
       "      <td>0</td>\n",
       "      <td>...</td>\n",
       "      <td>13934</td>\n",
       "      <td>15024</td>\n",
       "      <td>10578</td>\n",
       "      <td>6760</td>\n",
       "      <td>21126</td>\n",
       "      <td>68424</td>\n",
       "      <td>136</td>\n",
       "      <td>0</td>\n",
       "      <td>0</td>\n",
       "      <td>0</td>\n",
       "    </tr>\n",
       "    <tr>\n",
       "      <th>59997</th>\n",
       "      <td>0</td>\n",
       "      <td>0</td>\n",
       "      <td>0</td>\n",
       "      <td>0</td>\n",
       "      <td>28</td>\n",
       "      <td>11592</td>\n",
       "      <td>11538</td>\n",
       "      <td>0</td>\n",
       "      <td>0</td>\n",
       "      <td>0</td>\n",
       "      <td>...</td>\n",
       "      <td>15876</td>\n",
       "      <td>2740</td>\n",
       "      <td>792</td>\n",
       "      <td>386</td>\n",
       "      <td>452</td>\n",
       "      <td>144</td>\n",
       "      <td>146</td>\n",
       "      <td>2622</td>\n",
       "      <td>0</td>\n",
       "      <td>0</td>\n",
       "    </tr>\n",
       "    <tr>\n",
       "      <th>59998</th>\n",
       "      <td>0</td>\n",
       "      <td>0</td>\n",
       "      <td>0</td>\n",
       "      <td>0</td>\n",
       "      <td>330</td>\n",
       "      <td>202498</td>\n",
       "      <td>3251010</td>\n",
       "      <td>2061456</td>\n",
       "      <td>360436</td>\n",
       "      <td>59754</td>\n",
       "      <td>...</td>\n",
       "      <td>1180714</td>\n",
       "      <td>1709450</td>\n",
       "      <td>699352</td>\n",
       "      <td>222654</td>\n",
       "      <td>347378</td>\n",
       "      <td>225724</td>\n",
       "      <td>194440</td>\n",
       "      <td>165070</td>\n",
       "      <td>802280</td>\n",
       "      <td>388422</td>\n",
       "    </tr>\n",
       "    <tr>\n",
       "      <th>59999</th>\n",
       "      <td>0</td>\n",
       "      <td>0</td>\n",
       "      <td>0</td>\n",
       "      <td>0</td>\n",
       "      <td>1226</td>\n",
       "      <td>46284</td>\n",
       "      <td>1901140</td>\n",
       "      <td>855376</td>\n",
       "      <td>61744</td>\n",
       "      <td>6318</td>\n",
       "      <td>...</td>\n",
       "      <td>409798</td>\n",
       "      <td>686416</td>\n",
       "      <td>440066</td>\n",
       "      <td>183200</td>\n",
       "      <td>344546</td>\n",
       "      <td>254068</td>\n",
       "      <td>225148</td>\n",
       "      <td>158304</td>\n",
       "      <td>170384</td>\n",
       "      <td>158</td>\n",
       "    </tr>\n",
       "  </tbody>\n",
       "</table>\n",
       "<p>60000 rows × 70 columns</p>\n",
       "</div>"
      ],
      "text/plain": [
       "      ag_000 ag_001 ag_002 ag_003 ag_004   ag_005   ag_006   ag_007  ag_008  \\\n",
       "0          0      0      0      0  37250  1432864  3664156  1007684   25896   \n",
       "1          0      0      0      0  18254   653294  1720800   516724   31642   \n",
       "2          0      0      0      0   1648   370592  1883374   292936   12016   \n",
       "3          0      0      0    318   2212     3232     1872        0       0   \n",
       "4          0      0      0      0  43752  1966618  1800340   131646    4588   \n",
       "...      ...    ...    ...    ...    ...      ...      ...      ...     ...   \n",
       "59995      0      0      0   2564  59100  1603216  6015982  1968266  164972   \n",
       "59996      0      0      0      0    104    99186    36564      128       0   \n",
       "59997      0      0      0      0     28    11592    11538        0       0   \n",
       "59998      0      0      0      0    330   202498  3251010  2061456  360436   \n",
       "59999      0      0      0      0   1226    46284  1901140   855376   61744   \n",
       "\n",
       "      ag_009  ...   ee_000   ee_001   ee_002  ee_003   ee_004   ee_005  \\\n",
       "0          0  ...   965866  1706908  1240520  493384   721044   469792   \n",
       "1          0  ...   664504   824154   421400  178064   293306   245416   \n",
       "2          0  ...   262032   453378   277378  159812   423992   409564   \n",
       "3          0  ...     5670     1566      240      46       58       44   \n",
       "4          0  ...   404740   904230   622012  229790   405298   347188   \n",
       "...      ...  ...      ...      ...      ...     ...      ...      ...   \n",
       "59995  12560  ...  1608808  1479066   998500  566884  1290398  1218244   \n",
       "59996      0  ...    13934    15024    10578    6760    21126    68424   \n",
       "59997      0  ...    15876     2740      792     386      452      144   \n",
       "59998  59754  ...  1180714  1709450   699352  222654   347378   225724   \n",
       "59999   6318  ...   409798   686416   440066  183200   344546   254068   \n",
       "\n",
       "        ee_006  ee_007  ee_008  ee_009  \n",
       "0       339156  157956   73224       0  \n",
       "1       133654   81140   97576    1500  \n",
       "2       320746  158022   95128     514  \n",
       "3           10       0       0       0  \n",
       "4       286954  311560  433954    1218  \n",
       "...        ...     ...     ...     ...  \n",
       "59995  1019768  717762  898642   28588  \n",
       "59996      136       0       0       0  \n",
       "59997      146    2622       0       0  \n",
       "59998   194440  165070  802280  388422  \n",
       "59999   225148  158304  170384     158  \n",
       "\n",
       "[60000 rows x 70 columns]"
      ]
     },
     "execution_count": 8,
     "metadata": {},
     "output_type": "execute_result"
    }
   ],
   "source": [
    "train_df[categorical_cols]"
   ]
  },
  {
   "cell_type": "code",
   "execution_count": 9,
   "metadata": {},
   "outputs": [
    {
     "data": {
      "text/plain": [
       "{'ag': 10, 'ay': 10, 'az': 10, 'ba': 10, 'cn': 10, 'cs': 10, 'ee': 10}"
      ]
     },
     "execution_count": 9,
     "metadata": {},
     "output_type": "execute_result"
    }
   ],
   "source": [
    "categorical_cols.apply(lambda x: x.split(\"_\")[0]).value_counts().to_dict()"
   ]
  },
  {
   "cell_type": "code",
   "execution_count": 10,
   "metadata": {},
   "outputs": [
    {
     "data": {
      "text/plain": [
       "<Axes: >"
      ]
     },
     "execution_count": 10,
     "metadata": {},
     "output_type": "execute_result"
    },
    {
     "data": {
      "image/png": "[encoded data removed]",
      "text/plain": [
       "<Figure size 640x480 with 1 Axes>"
      ]
     },
     "metadata": {},
     "output_type": "display_data"
    }
   ],
   "source": [
    "#given this dataset plot the means train_df.filter(regex='cs_[0-9][0-9][0-9]')\n",
    "train_df.filter(regex='cs_[0-9][0-9][0-9]').replace('na', 0).astype(int).mean().plot(kind='bar')"
   ]
  },
  {
   "cell_type": "code",
   "execution_count": 11,
   "metadata": {},
   "outputs": [
    {
     "data": {
      "text/plain": [
       "<Axes: >"
      ]
     },
     "execution_count": 11,
     "metadata": {},
     "output_type": "execute_result"
    },
    {
     "data": {
      "image/png": "[encoded data removed]",
      "text/plain": [
       "<Figure size 640x480 with 1 Axes>"
      ]
     },
     "metadata": {},
     "output_type": "display_data"
    }
   ],
   "source": [
    "train_df.filter(regex='ee_[0-9][0-9][0-9]').replace('na', 0).astype(int).mean().plot(kind='bar')"
   ]
  },
  {
   "cell_type": "code",
   "execution_count": 12,
   "metadata": {},
   "outputs": [
    {
     "data": {
      "text/plain": [
       "<Axes: >"
      ]
     },
     "execution_count": 12,
     "metadata": {},
     "output_type": "execute_result"
    },
    {
     "data": {
      "image/png": "[encoded data removed]",
      "text/plain": [
       "<Figure size 640x480 with 1 Axes>"
      ]
     },
     "metadata": {},
     "output_type": "display_data"
    }
   ],
   "source": [
    "train_df.filter(regex='ag_[0-9][0-9][0-9]').replace('na', 0).astype(int).mean().plot(kind='bar')"
   ]
  },
  {
   "cell_type": "code",
   "execution_count": 13,
   "metadata": {},
   "outputs": [
    {
     "data": {
      "text/plain": [
       "<Axes: >"
      ]
     },
     "execution_count": 13,
     "metadata": {},
     "output_type": "execute_result"
    },
    {
     "data": {
      "image/png": "[encoded data removed]",
      "text/plain": [
       "<Figure size 640x480 with 1 Axes>"
      ]
     },
     "metadata": {},
     "output_type": "display_data"
    }
   ],
   "source": [
    "train_df.filter(regex='ay_[0-9][0-9][0-9]').replace('na', 0).astype(int).mean().plot(kind='bar')"
   ]
  },
  {
   "cell_type": "code",
   "execution_count": 14,
   "metadata": {},
   "outputs": [
    {
     "data": {
      "text/plain": [
       "{'ag': 10, 'ay': 10, 'az': 10, 'ba': 10, 'cn': 10, 'cs': 10, 'ee': 10}"
      ]
     },
     "execution_count": 14,
     "metadata": {},
     "output_type": "execute_result"
    }
   ],
   "source": [
    "categorical_cols.apply(lambda x: x.split(\"_\")[0]).value_counts().to_dict()"
   ]
  },
  {
   "cell_type": "code",
   "execution_count": 15,
   "metadata": {},
   "outputs": [
    {
     "data": {
      "text/plain": [
       "<Axes: >"
      ]
     },
     "execution_count": 15,
     "metadata": {},
     "output_type": "execute_result"
    },
    {
     "data": {
      "image/png": "[encoded data removed]",
      "text/plain": [
       "<Figure size 640x480 with 1 Axes>"
      ]
     },
     "metadata": {},
     "output_type": "display_data"
    }
   ],
   "source": [
    "train_df.filter(regex='az_[0-9][0-9][0-9]').replace('na', 0).astype(int).mean().plot(kind='bar')"
   ]
  },
  {
   "cell_type": "code",
   "execution_count": 16,
   "metadata": {},
   "outputs": [
    {
     "data": {
      "text/plain": [
       "<Axes: >"
      ]
     },
     "execution_count": 16,
     "metadata": {},
     "output_type": "execute_result"
    },
    {
     "data": {
      "image/png": "[encoded data removed]",
      "text/plain": [
       "<Figure size 640x480 with 1 Axes>"
      ]
     },
     "metadata": {},
     "output_type": "display_data"
    }
   ],
   "source": [
    "train_df.filter(regex='ba_[0-9][0-9][0-9]').replace('na', 0).astype(int).mean().plot(kind='bar')"
   ]
  },
  {
   "cell_type": "code",
   "execution_count": 17,
   "metadata": {},
   "outputs": [
    {
     "data": {
      "text/plain": [
       "<Axes: >"
      ]
     },
     "execution_count": 17,
     "metadata": {},
     "output_type": "execute_result"
    },
    {
     "data": {
      "image/png": "[encoded data removed]",
      "text/plain": [
       "<Figure size 640x480 with 1 Axes>"
      ]
     },
     "metadata": {},
     "output_type": "display_data"
    }
   ],
   "source": [
    "train_df.filter(regex='cn_[0-9][0-9][0-9]').replace('na', 0).astype(int).mean().plot(kind='bar')"
   ]
  },
  {
   "cell_type": "code",
   "execution_count": 18,
   "metadata": {},
   "outputs": [],
   "source": [
    "train_df_for_corr = train_df.copy()"
   ]
  },
  {
   "cell_type": "code",
   "execution_count": 19,
   "metadata": {},
   "outputs": [],
   "source": [
    "#look at the correlation between the columns against the targe\n",
    "train_df_for_corr[\"class\"] = train_df_for_corr[\"class\"].replace(['neg', 'pos'], [0, 1])\n",
    "train_df_for_corr = train_df_for_corr.replace('na', 0).astype(float).corr()"
   ]
  },
  {
   "cell_type": "code",
   "execution_count": 20,
   "metadata": {},
   "outputs": [],
   "source": [
    "#get non categorical columns\n",
    "numerical_columns = cols[~categorical_cols_idx]\n",
    "numerical_columns = numerical_columns[2:]"
   ]
  },
  {
   "cell_type": "code",
   "execution_count": 21,
   "metadata": {},
   "outputs": [
    {
     "data": {
      "text/plain": [
       "2      ab_000\n",
       "3      ac_000\n",
       "4      ad_000\n",
       "5      ae_000\n",
       "6      af_000\n",
       "        ...  \n",
       "156    eb_000\n",
       "157     ec_00\n",
       "158    ed_000\n",
       "169    ef_000\n",
       "170    eg_000\n",
       "Length: 99, dtype: object"
      ]
     },
     "execution_count": 21,
     "metadata": {},
     "output_type": "execute_result"
    }
   ],
   "source": [
    "numerical_columns"
   ]
  },
  {
   "cell_type": "code",
   "execution_count": 22,
   "metadata": {},
   "outputs": [],
   "source": [
    "#plot the non categorical columns\n",
    "relevant_col_bools = train_df_for_corr[\"class\"].abs()[numerical_columns].sort_values(ascending=False) > 0.3"
   ]
  },
  {
   "cell_type": "code",
   "execution_count": 23,
   "metadata": {},
   "outputs": [],
   "source": [
    "#get the columns that are relevant\n",
    "relevant_numerical_cols = relevant_col_bools[relevant_col_bools].index"
   ]
  },
  {
   "cell_type": "code",
   "execution_count": 24,
   "metadata": {},
   "outputs": [
    {
     "data": {
      "text/html": [
       "<div>\n",
       "<style scoped>\n",
       "    .dataframe tbody tr th:only-of-type {\n",
       "        vertical-align: middle;\n",
       "    }\n",
       "\n",
       "    .dataframe tbody tr th {\n",
       "        vertical-align: top;\n",
       "    }\n",
       "\n",
       "    .dataframe thead th {\n",
       "        text-align: right;\n",
       "    }\n",
       "</style>\n",
       "<table border=\"1\" class=\"dataframe\">\n",
       "  <thead>\n",
       "    <tr style=\"text-align: right;\">\n",
       "      <th></th>\n",
       "      <th>ci_000</th>\n",
       "      <th>bt_000</th>\n",
       "      <th>bb_000</th>\n",
       "      <th>bv_000</th>\n",
       "      <th>bu_000</th>\n",
       "      <th>cq_000</th>\n",
       "      <th>aq_000</th>\n",
       "      <th>bj_000</th>\n",
       "      <th>cc_000</th>\n",
       "      <th>ah_000</th>\n",
       "      <th>...</th>\n",
       "      <th>dn_000</th>\n",
       "      <th>ck_000</th>\n",
       "      <th>bi_000</th>\n",
       "      <th>am_0</th>\n",
       "      <th>al_000</th>\n",
       "      <th>ed_000</th>\n",
       "      <th>dt_000</th>\n",
       "      <th>cm_000</th>\n",
       "      <th>ds_000</th>\n",
       "      <th>cj_000</th>\n",
       "    </tr>\n",
       "  </thead>\n",
       "  <tbody>\n",
       "    <tr>\n",
       "      <th>0</th>\n",
       "      <td>5245752</td>\n",
       "      <td>76698.08</td>\n",
       "      <td>6700214</td>\n",
       "      <td>6700214</td>\n",
       "      <td>6700214</td>\n",
       "      <td>6700214</td>\n",
       "      <td>1132040</td>\n",
       "      <td>799478</td>\n",
       "      <td>6167850</td>\n",
       "      <td>2551696</td>\n",
       "      <td>...</td>\n",
       "      <td>62282</td>\n",
       "      <td>916567.68</td>\n",
       "      <td>947550</td>\n",
       "      <td>0</td>\n",
       "      <td>0</td>\n",
       "      <td>2712</td>\n",
       "      <td>37928</td>\n",
       "      <td>1924</td>\n",
       "      <td>202710</td>\n",
       "      <td>0</td>\n",
       "    </tr>\n",
       "    <tr>\n",
       "      <th>1</th>\n",
       "      <td>2291079.36</td>\n",
       "      <td>33057.51</td>\n",
       "      <td>3646660</td>\n",
       "      <td>3646660</td>\n",
       "      <td>3646660</td>\n",
       "      <td>3646660</td>\n",
       "      <td>338544</td>\n",
       "      <td>392208</td>\n",
       "      <td>2942850</td>\n",
       "      <td>1393352</td>\n",
       "      <td>...</td>\n",
       "      <td>33736</td>\n",
       "      <td>643536.96</td>\n",
       "      <td>688314</td>\n",
       "      <td>0</td>\n",
       "      <td>0</td>\n",
       "      <td>2334</td>\n",
       "      <td>16254</td>\n",
       "      <td>0</td>\n",
       "      <td>103330</td>\n",
       "      <td>0</td>\n",
       "    </tr>\n",
       "    <tr>\n",
       "      <th>2</th>\n",
       "      <td>2322692.16</td>\n",
       "      <td>41040.08</td>\n",
       "      <td>2673338</td>\n",
       "      <td>2673338</td>\n",
       "      <td>2673338</td>\n",
       "      <td>2673338</td>\n",
       "      <td>153698</td>\n",
       "      <td>139730</td>\n",
       "      <td>2560566</td>\n",
       "      <td>1234132</td>\n",
       "      <td>...</td>\n",
       "      <td>13876</td>\n",
       "      <td>236099.52</td>\n",
       "      <td>160176</td>\n",
       "      <td>0</td>\n",
       "      <td>0</td>\n",
       "      <td>1020</td>\n",
       "      <td>10534</td>\n",
       "      <td>0</td>\n",
       "      <td>65772</td>\n",
       "      <td>0</td>\n",
       "    </tr>\n",
       "    <tr>\n",
       "      <th>3</th>\n",
       "      <td>2135.04</td>\n",
       "      <td>12.69</td>\n",
       "      <td>21614</td>\n",
       "      <td>21614</td>\n",
       "      <td>21614</td>\n",
       "      <td>21614</td>\n",
       "      <td>1014</td>\n",
       "      <td>3090</td>\n",
       "      <td>7710</td>\n",
       "      <td>2668</td>\n",
       "      <td>...</td>\n",
       "      <td>232</td>\n",
       "      <td>4525.44</td>\n",
       "      <td>7632</td>\n",
       "      <td>3894</td>\n",
       "      <td>642</td>\n",
       "      <td>54</td>\n",
       "      <td>18</td>\n",
       "      <td>16</td>\n",
       "      <td>48</td>\n",
       "      <td>0</td>\n",
       "    </tr>\n",
       "    <tr>\n",
       "      <th>4</th>\n",
       "      <td>3565684.8</td>\n",
       "      <td>60874.03</td>\n",
       "      <td>4289260</td>\n",
       "      <td>4289260</td>\n",
       "      <td>4289260</td>\n",
       "      <td>4289260</td>\n",
       "      <td>551022</td>\n",
       "      <td>399410</td>\n",
       "      <td>3946944</td>\n",
       "      <td>1974038</td>\n",
       "      <td>...</td>\n",
       "      <td>44946</td>\n",
       "      <td>379111.68</td>\n",
       "      <td>653692</td>\n",
       "      <td>0</td>\n",
       "      <td>0</td>\n",
       "      <td>1176</td>\n",
       "      <td>35154</td>\n",
       "      <td>746</td>\n",
       "      <td>149474</td>\n",
       "      <td>0</td>\n",
       "    </tr>\n",
       "    <tr>\n",
       "      <th>...</th>\n",
       "      <td>...</td>\n",
       "      <td>...</td>\n",
       "      <td>...</td>\n",
       "      <td>...</td>\n",
       "      <td>...</td>\n",
       "      <td>...</td>\n",
       "      <td>...</td>\n",
       "      <td>...</td>\n",
       "      <td>...</td>\n",
       "      <td>...</td>\n",
       "      <td>...</td>\n",
       "      <td>...</td>\n",
       "      <td>...</td>\n",
       "      <td>...</td>\n",
       "      <td>...</td>\n",
       "      <td>...</td>\n",
       "      <td>...</td>\n",
       "      <td>...</td>\n",
       "      <td>...</td>\n",
       "      <td>...</td>\n",
       "      <td>...</td>\n",
       "    </tr>\n",
       "    <tr>\n",
       "      <th>59995</th>\n",
       "      <td>8289544.32</td>\n",
       "      <td>153001.45</td>\n",
       "      <td>10845228</td>\n",
       "      <td>10845228</td>\n",
       "      <td>10845228</td>\n",
       "      <td>10845228</td>\n",
       "      <td>776370</td>\n",
       "      <td>678792</td>\n",
       "      <td>9826660</td>\n",
       "      <td>4880368</td>\n",
       "      <td>...</td>\n",
       "      <td>62846</td>\n",
       "      <td>1529548.8</td>\n",
       "      <td>1244058</td>\n",
       "      <td>2114</td>\n",
       "      <td>1224</td>\n",
       "      <td>2858</td>\n",
       "      <td>54496</td>\n",
       "      <td>2360</td>\n",
       "      <td>265640</td>\n",
       "      <td>0</td>\n",
       "    </tr>\n",
       "    <tr>\n",
       "      <th>59996</th>\n",
       "      <td>123344.64</td>\n",
       "      <td>2285.92</td>\n",
       "      <td>147638</td>\n",
       "      <td>147638</td>\n",
       "      <td>147638</td>\n",
       "      <td>147638</td>\n",
       "      <td>11622</td>\n",
       "      <td>9572</td>\n",
       "      <td>135982</td>\n",
       "      <td>56982</td>\n",
       "      <td>...</td>\n",
       "      <td>1066</td>\n",
       "      <td>11387.52</td>\n",
       "      <td>14404</td>\n",
       "      <td>0</td>\n",
       "      <td>0</td>\n",
       "      <td>82</td>\n",
       "      <td>510</td>\n",
       "      <td>28</td>\n",
       "      <td>2450</td>\n",
       "      <td>0</td>\n",
       "    </tr>\n",
       "    <tr>\n",
       "      <th>59997</th>\n",
       "      <td>7518.72</td>\n",
       "      <td>112.49</td>\n",
       "      <td>43738</td>\n",
       "      <td>43738</td>\n",
       "      <td>43738</td>\n",
       "      <td>43738</td>\n",
       "      <td>874</td>\n",
       "      <td>6224</td>\n",
       "      <td>23310</td>\n",
       "      <td>8784</td>\n",
       "      <td>...</td>\n",
       "      <td>622</td>\n",
       "      <td>10493.76</td>\n",
       "      <td>7640</td>\n",
       "      <td>0</td>\n",
       "      <td>0</td>\n",
       "      <td>134</td>\n",
       "      <td>58</td>\n",
       "      <td>96</td>\n",
       "      <td>162</td>\n",
       "      <td>4221.12</td>\n",
       "    </tr>\n",
       "    <tr>\n",
       "      <th>59998</th>\n",
       "      <td>4776505.92</td>\n",
       "      <td>80292.76</td>\n",
       "      <td>6159728</td>\n",
       "      <td>6159728</td>\n",
       "      <td>6159728</td>\n",
       "      <td>6159728</td>\n",
       "      <td>1214970</td>\n",
       "      <td>1032454</td>\n",
       "      <td>5935484</td>\n",
       "      <td>2634394</td>\n",
       "      <td>...</td>\n",
       "      <td>79230</td>\n",
       "      <td>1048805.76</td>\n",
       "      <td>580084</td>\n",
       "      <td>0</td>\n",
       "      <td>0</td>\n",
       "      <td>1908</td>\n",
       "      <td>40564</td>\n",
       "      <td>1254</td>\n",
       "      <td>166748</td>\n",
       "      <td>106006.08</td>\n",
       "    </tr>\n",
       "    <tr>\n",
       "      <th>59999</th>\n",
       "      <td>2480113.92</td>\n",
       "      <td>40221.06</td>\n",
       "      <td>3076406</td>\n",
       "      <td>3076406</td>\n",
       "      <td>3076406</td>\n",
       "      <td>3076406</td>\n",
       "      <td>334864</td>\n",
       "      <td>260378</td>\n",
       "      <td>2872088</td>\n",
       "      <td>1235850</td>\n",
       "      <td>...</td>\n",
       "      <td>21454</td>\n",
       "      <td>389530.56</td>\n",
       "      <td>310028</td>\n",
       "      <td>0</td>\n",
       "      <td>0</td>\n",
       "      <td>1256</td>\n",
       "      <td>14390</td>\n",
       "      <td>0</td>\n",
       "      <td>79872</td>\n",
       "      <td>0</td>\n",
       "    </tr>\n",
       "  </tbody>\n",
       "</table>\n",
       "<p>60000 rows × 27 columns</p>\n",
       "</div>"
      ],
      "text/plain": [
       "           ci_000     bt_000    bb_000    bv_000    bu_000    cq_000   aq_000  \\\n",
       "0         5245752   76698.08   6700214   6700214   6700214   6700214  1132040   \n",
       "1      2291079.36   33057.51   3646660   3646660   3646660   3646660   338544   \n",
       "2      2322692.16   41040.08   2673338   2673338   2673338   2673338   153698   \n",
       "3         2135.04      12.69     21614     21614     21614     21614     1014   \n",
       "4       3565684.8   60874.03   4289260   4289260   4289260   4289260   551022   \n",
       "...           ...        ...       ...       ...       ...       ...      ...   \n",
       "59995  8289544.32  153001.45  10845228  10845228  10845228  10845228   776370   \n",
       "59996   123344.64    2285.92    147638    147638    147638    147638    11622   \n",
       "59997     7518.72     112.49     43738     43738     43738     43738      874   \n",
       "59998  4776505.92   80292.76   6159728   6159728   6159728   6159728  1214970   \n",
       "59999  2480113.92   40221.06   3076406   3076406   3076406   3076406   334864   \n",
       "\n",
       "        bj_000   cc_000   ah_000  ... dn_000      ck_000   bi_000  am_0  \\\n",
       "0       799478  6167850  2551696  ...  62282   916567.68   947550     0   \n",
       "1       392208  2942850  1393352  ...  33736   643536.96   688314     0   \n",
       "2       139730  2560566  1234132  ...  13876   236099.52   160176     0   \n",
       "3         3090     7710     2668  ...    232     4525.44     7632  3894   \n",
       "4       399410  3946944  1974038  ...  44946   379111.68   653692     0   \n",
       "...        ...      ...      ...  ...    ...         ...      ...   ...   \n",
       "59995   678792  9826660  4880368  ...  62846   1529548.8  1244058  2114   \n",
       "59996     9572   135982    56982  ...   1066    11387.52    14404     0   \n",
       "59997     6224    23310     8784  ...    622    10493.76     7640     0   \n",
       "59998  1032454  5935484  2634394  ...  79230  1048805.76   580084     0   \n",
       "59999   260378  2872088  1235850  ...  21454   389530.56   310028     0   \n",
       "\n",
       "      al_000 ed_000 dt_000 cm_000  ds_000     cj_000  \n",
       "0          0   2712  37928   1924  202710          0  \n",
       "1          0   2334  16254      0  103330          0  \n",
       "2          0   1020  10534      0   65772          0  \n",
       "3        642     54     18     16      48          0  \n",
       "4          0   1176  35154    746  149474          0  \n",
       "...      ...    ...    ...    ...     ...        ...  \n",
       "59995   1224   2858  54496   2360  265640          0  \n",
       "59996      0     82    510     28    2450          0  \n",
       "59997      0    134     58     96     162    4221.12  \n",
       "59998      0   1908  40564   1254  166748  106006.08  \n",
       "59999      0   1256  14390      0   79872          0  \n",
       "\n",
       "[60000 rows x 27 columns]"
      ]
     },
     "execution_count": 24,
     "metadata": {},
     "output_type": "execute_result"
    }
   ],
   "source": [
    "train_df[relevant_numerical_cols]"
   ]
  },
  {
   "cell_type": "code",
   "execution_count": 25,
   "metadata": {},
   "outputs": [],
   "source": [
    "labels = train_df.pop('class')"
   ]
  },
  {
   "cell_type": "code",
   "execution_count": 26,
   "metadata": {},
   "outputs": [
    {
     "name": "stderr",
     "output_type": "stream",
     "text": [
      "/Users/firatkizilboga/Projects/LFD/APS-Failure-Prediction/.venv/lib/python3.11/site-packages/sklearn/linear_model/_logistic.py:460: ConvergenceWarning: lbfgs failed to converge (status=1):\n",
      "STOP: TOTAL NO. of ITERATIONS REACHED LIMIT.\n",
      "\n",
      "Increase the number of iterations (max_iter) or scale the data as shown in:\n",
      "    https://scikit-learn.org/stable/modules/preprocessing.html\n",
      "Please also refer to the documentation for alternative solver options:\n",
      "    https://scikit-learn.org/stable/modules/linear_model.html#logistic-regression\n",
      "  n_iter_i = _check_optimize_result(\n"
     ]
    },
    {
     "data": {
      "text/html": [
       "<style>#sk-container-id-1 {color: black;}#sk-container-id-1 pre{padding: 0;}#sk-container-id-1 div.sk-toggleable {background-color: white;}#sk-container-id-1 label.sk-toggleable__label {cursor: pointer;display: block;width: 100%;margin-bottom: 0;padding: 0.3em;box-sizing: border-box;text-align: center;}#sk-container-id-1 label.sk-toggleable__label-arrow:before {content: \"▸\";float: left;margin-right: 0.25em;color: #696969;}#sk-container-id-1 label.sk-toggleable__label-arrow:hover:before {color: black;}#sk-container-id-1 div.sk-estimator:hover label.sk-toggleable__label-arrow:before {color: black;}#sk-container-id-1 div.sk-toggleable__content {max-height: 0;max-width: 0;overflow: hidden;text-align: left;background-color: #f0f8ff;}#sk-container-id-1 div.sk-toggleable__content pre {margin: 0.2em;color: black;border-radius: 0.25em;background-color: #f0f8ff;}#sk-container-id-1 input.sk-toggleable__control:checked~div.sk-toggleable__content {max-height: 200px;max-width: 100%;overflow: auto;}#sk-container-id-1 input.sk-toggleable__control:checked~label.sk-toggleable__label-arrow:before {content: \"▾\";}#sk-container-id-1 div.sk-estimator input.sk-toggleable__control:checked~label.sk-toggleable__label {background-color: #d4ebff;}#sk-container-id-1 div.sk-label input.sk-toggleable__control:checked~label.sk-toggleable__label {background-color: #d4ebff;}#sk-container-id-1 input.sk-hidden--visually {border: 0;clip: rect(1px 1px 1px 1px);clip: rect(1px, 1px, 1px, 1px);height: 1px;margin: -1px;overflow: hidden;padding: 0;position: absolute;width: 1px;}#sk-container-id-1 div.sk-estimator {font-family: monospace;background-color: #f0f8ff;border: 1px dotted black;border-radius: 0.25em;box-sizing: border-box;margin-bottom: 0.5em;}#sk-container-id-1 div.sk-estimator:hover {background-color: #d4ebff;}#sk-container-id-1 div.sk-parallel-item::after {content: \"\";width: 100%;border-bottom: 1px solid gray;flex-grow: 1;}#sk-container-id-1 div.sk-label:hover label.sk-toggleable__label {background-color: #d4ebff;}#sk-container-id-1 div.sk-serial::before {content: \"\";position: absolute;border-left: 1px solid gray;box-sizing: border-box;top: 0;bottom: 0;left: 50%;z-index: 0;}#sk-container-id-1 div.sk-serial {display: flex;flex-direction: column;align-items: center;background-color: white;padding-right: 0.2em;padding-left: 0.2em;position: relative;}#sk-container-id-1 div.sk-item {position: relative;z-index: 1;}#sk-container-id-1 div.sk-parallel {display: flex;align-items: stretch;justify-content: center;background-color: white;position: relative;}#sk-container-id-1 div.sk-item::before, #sk-container-id-1 div.sk-parallel-item::before {content: \"\";position: absolute;border-left: 1px solid gray;box-sizing: border-box;top: 0;bottom: 0;left: 50%;z-index: -1;}#sk-container-id-1 div.sk-parallel-item {display: flex;flex-direction: column;z-index: 1;position: relative;background-color: white;}#sk-container-id-1 div.sk-parallel-item:first-child::after {align-self: flex-end;width: 50%;}#sk-container-id-1 div.sk-parallel-item:last-child::after {align-self: flex-start;width: 50%;}#sk-container-id-1 div.sk-parallel-item:only-child::after {width: 0;}#sk-container-id-1 div.sk-dashed-wrapped {border: 1px dashed gray;margin: 0 0.4em 0.5em 0.4em;box-sizing: border-box;padding-bottom: 0.4em;background-color: white;}#sk-container-id-1 div.sk-label label {font-family: monospace;font-weight: bold;display: inline-block;line-height: 1.2em;}#sk-container-id-1 div.sk-label-container {text-align: center;}#sk-container-id-1 div.sk-container {/* jupyter's `normalize.less` sets `[hidden] { display: none; }` but bootstrap.min.css set `[hidden] { display: none !important; }` so we also need the `!important` here to be able to override the default hidden behavior on the sphinx rendered scikit-learn.org. See: https://github.com/scikit-learn/scikit-learn/issues/21755 */display: inline-block !important;position: relative;}#sk-container-id-1 div.sk-text-repr-fallback {display: none;}</style><div id=\"sk-container-id-1\" class=\"sk-top-container\"><div class=\"sk-text-repr-fallback\"><pre>LogisticRegression(multi_class=&#x27;multinomial&#x27;, random_state=0)</pre><b>In a Jupyter environment, please rerun this cell to show the HTML representation or trust the notebook. <br />On GitHub, the HTML representation is unable to render, please try loading this page with nbviewer.org.</b></div><div class=\"sk-container\" hidden><div class=\"sk-item\"><div class=\"sk-estimator sk-toggleable\"><input class=\"sk-toggleable__control sk-hidden--visually\" id=\"sk-estimator-id-1\" type=\"checkbox\" checked><label for=\"sk-estimator-id-1\" class=\"sk-toggleable__label sk-toggleable__label-arrow\">LogisticRegression</label><div class=\"sk-toggleable__content\"><pre>LogisticRegression(multi_class=&#x27;multinomial&#x27;, random_state=0)</pre></div></div></div></div></div>"
      ],
      "text/plain": [
       "LogisticRegression(multi_class='multinomial', random_state=0)"
      ]
     },
     "execution_count": 26,
     "metadata": {},
     "output_type": "execute_result"
    }
   ],
   "source": [
    "from sklearn.preprocessing import StandardScaler\n",
    "from sklearn.linear_model import LogisticRegression\n",
    "from sklearn.model_selection import train_test_split\n",
    "\n",
    "Y = labels.apply(lambda x: 1 if x == 'pos' else 0).values\n",
    "X = train_df[categorical_cols].replace('na', 0).astype(int).values\n",
    "X_transformed = StandardScaler().fit_transform(X)\n",
    "X_train, X_test, y_train, y_test = train_test_split(X_transformed, Y, test_size=0.33, random_state=42, stratify=Y)\n",
    "clf = LogisticRegression(random_state=0, solver='lbfgs', multi_class='multinomial')\n",
    "clf.fit(X_train, y_train)"
   ]
  },
  {
   "cell_type": "code",
   "execution_count": 27,
   "metadata": {},
   "outputs": [
    {
     "name": "stdout",
     "output_type": "stream",
     "text": [
      "              precision    recall  f1-score   support\n",
      "\n",
      "           0       0.99      1.00      0.99     19470\n",
      "           1       0.76      0.54      0.63       330\n",
      "\n",
      "    accuracy                           0.99     19800\n",
      "   macro avg       0.87      0.77      0.81     19800\n",
      "weighted avg       0.99      0.99      0.99     19800\n",
      "\n",
      "[[19413    57]\n",
      " [  152   178]]\n"
     ]
    }
   ],
   "source": [
    "from sklearn.metrics import classification_report\n",
    "from sklearn.metrics import confusion_matrix\n",
    "y_pred = clf.predict(X_test)\n",
    "\n",
    "print(classification_report(y_test, y_pred))\n",
    "print(confusion_matrix(y_test, y_pred))"
   ]
  },
  {
   "cell_type": "code",
   "execution_count": 28,
   "metadata": {},
   "outputs": [],
   "source": [
    "test_df = pd.read_csv('data/aps_failure_test_set.csv')\n",
    "X = test_df[categorical_cols].replace('na', 0).astype(int).values\n",
    "X_transformed = StandardScaler().fit_transform(X)\n",
    "y_pred_ = clf.predict(X_transformed)"
   ]
  },
  {
   "cell_type": "code",
   "execution_count": 29,
   "metadata": {},
   "outputs": [],
   "source": [
    "def labelize(x):\n",
    "    if x == 1:\n",
    "        return 'pos'\n",
    "    else:\n",
    "        return 'neg'\n",
    "labelize = np.vectorize(labelize)"
   ]
  },
  {
   "cell_type": "code",
   "execution_count": 30,
   "metadata": {},
   "outputs": [],
   "source": [
    "output = pd.DataFrame({'id': np.arange(1,len(y_pred_)+1),\"class\": labelize(y_pred_)})\n",
    "output.to_csv('categorical values standardized logistic regression, output.csv', index=False)"
   ]
  },
  {
   "cell_type": "code",
   "execution_count": 31,
   "metadata": {},
   "outputs": [
    {
     "name": "stdout",
     "output_type": "stream",
     "text": [
      "              precision    recall  f1-score   support\n",
      "\n",
      "           0       0.99      1.00      0.99     19470\n",
      "           1       0.74      0.51      0.61       330\n",
      "\n",
      "    accuracy                           0.99     19800\n",
      "   macro avg       0.87      0.75      0.80     19800\n",
      "weighted avg       0.99      0.99      0.99     19800\n",
      "\n",
      "[[19412    58]\n",
      " [  161   169]]\n"
     ]
    },
    {
     "name": "stderr",
     "output_type": "stream",
     "text": [
      "/Users/firatkizilboga/Projects/LFD/APS-Failure-Prediction/.venv/lib/python3.11/site-packages/sklearn/linear_model/_logistic.py:460: ConvergenceWarning: lbfgs failed to converge (status=1):\n",
      "STOP: TOTAL NO. of ITERATIONS REACHED LIMIT.\n",
      "\n",
      "Increase the number of iterations (max_iter) or scale the data as shown in:\n",
      "    https://scikit-learn.org/stable/modules/preprocessing.html\n",
      "Please also refer to the documentation for alternative solver options:\n",
      "    https://scikit-learn.org/stable/modules/linear_model.html#logistic-regression\n",
      "  n_iter_i = _check_optimize_result(\n"
     ]
    }
   ],
   "source": [
    "from preprocessing import FactorAnalysis\n",
    "\n",
    "FA = FactorAnalysis(50)\n",
    "X = train_df[categorical_cols].replace('na', 0).astype(int).values\n",
    "X_transformed = StandardScaler().fit_transform(X)\n",
    "\n",
    "FA.fit(X_transformed)\n",
    "X_transformed_ = FA.transform(X_transformed)\n",
    "\n",
    "X_train, X_test, y_train, y_test = train_test_split(X_transformed_, Y, test_size=0.33, random_state=42, stratify=Y)\n",
    "clf = LogisticRegression(random_state=0, solver='lbfgs', multi_class='multinomial')\n",
    "\n",
    "clf.fit(X_train, y_train)\n",
    "y_pred = clf.predict(X_test)\n",
    "\n",
    "print(classification_report(y_test, y_pred))\n",
    "\n",
    "print(confusion_matrix(y_test, y_pred))"
   ]
  },
  {
   "cell_type": "code",
   "execution_count": 32,
   "metadata": {},
   "outputs": [
    {
     "data": {
      "text/plain": [
       "0.9934842737430886"
      ]
     },
     "execution_count": 32,
     "metadata": {},
     "output_type": "execute_result"
    }
   ],
   "source": [
    "FA.explained_variance_ratio.sum()"
   ]
  },
  {
   "cell_type": "code",
   "execution_count": 33,
   "metadata": {},
   "outputs": [
    {
     "name": "stdout",
     "output_type": "stream",
     "text": [
      "              precision    recall  f1-score   support\n",
      "\n",
      "           0       0.99      1.00      1.00     19470\n",
      "           1       0.82      0.58      0.68       330\n",
      "\n",
      "    accuracy                           0.99     19800\n",
      "   macro avg       0.91      0.79      0.84     19800\n",
      "weighted avg       0.99      0.99      0.99     19800\n",
      "\n",
      "[[19429    41]\n",
      " [  137   193]]\n"
     ]
    }
   ],
   "source": [
    "#run the same experiment with XGBoost\n",
    "\n",
    "from xgboost import XGBClassifier\n",
    "\n",
    "clf = XGBClassifier()\n",
    "clf.fit(X_train, y_train)\n",
    "y_pred = clf.predict(X_test)\n",
    "\n",
    "print(classification_report(y_test, y_pred))\n",
    "\n",
    "print(confusion_matrix(y_test, y_pred))"
   ]
  },
  {
   "cell_type": "code",
   "execution_count": 34,
   "metadata": {},
   "outputs": [
    {
     "name": "stdout",
     "output_type": "stream",
     "text": [
      "              precision    recall  f1-score   support\n",
      "\n",
      "           0       0.99      1.00      1.00     19470\n",
      "           1       0.88      0.64      0.74       330\n",
      "\n",
      "    accuracy                           0.99     19800\n",
      "   macro avg       0.93      0.82      0.87     19800\n",
      "weighted avg       0.99      0.99      0.99     19800\n",
      "\n",
      "[[19440    30]\n",
      " [  118   212]]\n"
     ]
    }
   ],
   "source": [
    "#xgboost without factor analysis\n",
    "\n",
    "clf = XGBClassifier()\n",
    "X_train, X_test, y_train, y_test = train_test_split(X_transformed, Y, test_size=0.33, random_state=42, stratify=Y)\n",
    "clf.fit(X_train, y_train)\n",
    "y_pred = clf.predict(X_test)\n",
    "\n",
    "print(classification_report(y_test, y_pred))\n",
    "\n",
    "print(confusion_matrix(y_test, y_pred))"
   ]
  },
  {
   "cell_type": "markdown",
   "metadata": {},
   "source": [
    "Factor analysis fails."
   ]
  },
  {
   "cell_type": "code",
   "execution_count": 35,
   "metadata": {},
   "outputs": [],
   "source": [
    "#use test set to predict\n",
    "X = test_df[categorical_cols].replace('na', 0).astype(int).values\n",
    "X_transformed = StandardScaler().fit_transform(X)\n",
    "y_pred_ = clf.predict(X_transformed)\n",
    "\n",
    "output = pd.DataFrame({'id': np.arange(1,len(y_pred_)+1),\"class\": labelize(y_pred_)})\n",
    "output.to_csv('categorical values standardized xgboost, output.csv', index=False)"
   ]
  },
  {
   "cell_type": "code",
   "execution_count": 36,
   "metadata": {},
   "outputs": [],
   "source": [
    "#add two column types together\n",
    "num_cat_cols = pd.Index(categorical_cols).append(pd.Index(relevant_numerical_cols))"
   ]
  },
  {
   "cell_type": "code",
   "execution_count": 37,
   "metadata": {},
   "outputs": [
    {
     "data": {
      "text/plain": [
       "Index(['ci_000', 'bt_000', 'bb_000', 'bv_000', 'bu_000', 'cq_000', 'aq_000',\n",
       "       'bj_000', 'cc_000', 'ah_000', 'an_000', 'bg_000', 'ao_000', 'bx_000',\n",
       "       'ap_000', 'by_000', 'bh_000', 'dn_000', 'ck_000', 'bi_000', 'am_0',\n",
       "       'al_000', 'ed_000', 'dt_000', 'cm_000', 'ds_000', 'cj_000'],\n",
       "      dtype='object')"
      ]
     },
     "execution_count": 37,
     "metadata": {},
     "output_type": "execute_result"
    }
   ],
   "source": [
    "relevant_numerical_cols"
   ]
  },
  {
   "cell_type": "code",
   "execution_count": 38,
   "metadata": {},
   "outputs": [
    {
     "data": {
      "text/plain": [
       "Index(['ag_000', 'ag_001', 'ag_002', 'ag_003', 'ag_004', 'ag_005', 'ag_006',\n",
       "       'ag_007', 'ag_008', 'ag_009', 'ay_000', 'ay_001', 'ay_002', 'ay_003',\n",
       "       'ay_004', 'ay_005', 'ay_006', 'ay_007', 'ay_008', 'ay_009', 'az_000',\n",
       "       'az_001', 'az_002', 'az_003', 'az_004', 'az_005', 'az_006', 'az_007',\n",
       "       'az_008', 'az_009', 'ba_000', 'ba_001', 'ba_002', 'ba_003', 'ba_004',\n",
       "       'ba_005', 'ba_006', 'ba_007', 'ba_008', 'ba_009', 'cn_000', 'cn_001',\n",
       "       'cn_002', 'cn_003', 'cn_004', 'cn_005', 'cn_006', 'cn_007', 'cn_008',\n",
       "       'cn_009', 'cs_000', 'cs_001', 'cs_002', 'cs_003', 'cs_004', 'cs_005',\n",
       "       'cs_006', 'cs_007', 'cs_008', 'cs_009', 'ee_000', 'ee_001', 'ee_002',\n",
       "       'ee_003', 'ee_004', 'ee_005', 'ee_006', 'ee_007', 'ee_008', 'ee_009',\n",
       "       'ci_000', 'bt_000', 'bb_000', 'bv_000', 'bu_000', 'cq_000', 'aq_000',\n",
       "       'bj_000', 'cc_000', 'ah_000', 'an_000', 'bg_000', 'ao_000', 'bx_000',\n",
       "       'ap_000', 'by_000', 'bh_000', 'dn_000', 'ck_000', 'bi_000', 'am_0',\n",
       "       'al_000', 'ed_000', 'dt_000', 'cm_000', 'ds_000', 'cj_000'],\n",
       "      dtype='object')"
      ]
     },
     "execution_count": 38,
     "metadata": {},
     "output_type": "execute_result"
    }
   ],
   "source": [
    "num_cat_cols"
   ]
  },
  {
   "cell_type": "code",
   "execution_count": 39,
   "metadata": {},
   "outputs": [
    {
     "name": "stdout",
     "output_type": "stream",
     "text": [
      "              precision    recall  f1-score   support\n",
      "\n",
      "           0       1.00      1.00      1.00     19470\n",
      "           1       0.86      0.75      0.80       330\n",
      "\n",
      "    accuracy                           0.99     19800\n",
      "   macro avg       0.93      0.87      0.90     19800\n",
      "weighted avg       0.99      0.99      0.99     19800\n",
      "\n",
      "[[19431    39]\n",
      " [   83   247]]\n"
     ]
    }
   ],
   "source": [
    "X = train_df[num_cat_cols].replace('na', 0).astype(float).values\n",
    "X_transformed = StandardScaler().fit_transform(X)\n",
    "X_train, X_test, y_train, y_test = train_test_split(X_transformed, Y, test_size=0.33, random_state=42, stratify=Y)\n",
    "\n",
    "clf = XGBClassifier()\n",
    "clf.fit(X_train, y_train)\n",
    "y_pred = clf.predict(X_test)\n",
    "\n",
    "print(classification_report(y_test, y_pred))\n",
    "\n",
    "print(confusion_matrix(y_test, y_pred))"
   ]
  },
  {
   "cell_type": "code",
   "execution_count": 40,
   "metadata": {},
   "outputs": [],
   "source": [
    "#use test set to predict\n",
    "X = test_df[num_cat_cols].replace('na', 0).astype(float).values\n",
    "X_transformed = StandardScaler().fit_transform(X)\n",
    "y_pred_ = clf.predict(X_transformed)\n",
    "\n",
    "output = pd.DataFrame({'id': np.arange(1,len(y_pred_)+1),\"class\": labelize(y_pred_)})\n",
    "output.to_csv('categorical+relevant numerical values standardized xgboost, output.csv', index=False)"
   ]
  },
  {
   "cell_type": "code",
   "execution_count": 41,
   "metadata": {},
   "outputs": [],
   "source": [
    "#lets apply factor analysis to the numerical columns\n",
    "FA = FactorAnalysis(50)\n",
    "\n",
    "numericals = train_df[numerical_columns].replace('na', 0).astype(float).values\n",
    "numericals_transformed = StandardScaler().fit_transform(numericals)\n",
    "\n",
    "FA.fit(numericals_transformed)\n",
    "numericals_transformed_ = FA.transform(numericals_transformed)\n",
    "X = train_df[categorical_cols].replace('na', 0).astype(int).values\n",
    "X = np.concatenate((X, numericals_transformed_), axis=1)\n",
    "\n",
    "X_transformed = StandardScaler().fit_transform(X)\n",
    "X_train, X_test, y_train, y_test = train_test_split(X, Y, test_size=0.33, random_state=42, stratify=Y)"
   ]
  },
  {
   "cell_type": "code",
   "execution_count": 42,
   "metadata": {},
   "outputs": [
    {
     "name": "stdout",
     "output_type": "stream",
     "text": [
      "              precision    recall  f1-score   support\n",
      "\n",
      "           0       1.00      1.00      1.00     19470\n",
      "           1       0.86      0.72      0.79       330\n",
      "\n",
      "    accuracy                           0.99     19800\n",
      "   macro avg       0.93      0.86      0.89     19800\n",
      "weighted avg       0.99      0.99      0.99     19800\n",
      "\n",
      "[[19432    38]\n",
      " [   91   239]]\n"
     ]
    }
   ],
   "source": [
    "clf = XGBClassifier()\n",
    "clf.fit(X_train, y_train)\n",
    "y_pred = clf.predict(X_test)\n",
    "\n",
    "print(classification_report(y_test, y_pred))\n",
    "\n",
    "print(confusion_matrix(y_test, y_pred))"
   ]
  },
  {
   "cell_type": "markdown",
   "metadata": {},
   "source": [
    "FA Hurts performance."
   ]
  },
  {
   "cell_type": "code",
   "execution_count": 43,
   "metadata": {},
   "outputs": [],
   "source": [
    "from preprocessing import LDA"
   ]
  },
  {
   "cell_type": "code",
   "execution_count": 50,
   "metadata": {},
   "outputs": [
    {
     "name": "stdout",
     "output_type": "stream",
     "text": [
      "(60000, 97) (97, 70)\n"
     ]
    }
   ],
   "source": [
    "X = train_df[num_cat_cols].replace('na', 0).astype(float).values\n",
    "X_transformed = StandardScaler().fit_transform(X)\n",
    "lda = LDA(70)\n",
    "lda.fit(X_transformed, Y)\n",
    "X_transformed_ = lda.transform(X_transformed)\n",
    "X_train, X_test, y_train, y_test = train_test_split(X_transformed_, Y, test_size=0.33, random_state=42, stratify=Y)"
   ]
  },
  {
   "cell_type": "code",
   "execution_count": 53,
   "metadata": {},
   "outputs": [
    {
     "data": {
      "text/plain": [
       "-66983.46644071498"
      ]
     },
     "execution_count": 53,
     "metadata": {},
     "output_type": "execute_result"
    }
   ],
   "source": [
    "lda.explained_variance_ratio"
   ]
  },
  {
   "cell_type": "code",
   "execution_count": 51,
   "metadata": {},
   "outputs": [
    {
     "name": "stdout",
     "output_type": "stream",
     "text": [
      "              precision    recall  f1-score   support\n",
      "\n",
      "           0       1.00      1.00      1.00     19470\n",
      "           1       0.82      0.72      0.77       330\n",
      "\n",
      "    accuracy                           0.99     19800\n",
      "   macro avg       0.91      0.86      0.88     19800\n",
      "weighted avg       0.99      0.99      0.99     19800\n",
      "\n",
      "[[19419    51]\n",
      " [   93   237]]\n"
     ]
    }
   ],
   "source": [
    "clf = XGBClassifier()\n",
    "clf.fit(X_train, y_train)\n",
    "y_pred = clf.predict(X_test)\n",
    "\n",
    "print(classification_report(y_test, y_pred))\n",
    "\n",
    "print(confusion_matrix(y_test, y_pred))"
   ]
  },
  {
   "cell_type": "code",
   "execution_count": 49,
   "metadata": {},
   "outputs": [],
   "source": [
    "# #use keras to create a neural network\n",
    "# from keras.models import Sequential\n",
    "# from keras.layers import Dense, Dropout, Activation\n",
    "# #use momentum optimizer\n",
    "# from keras.optimizers import SGD\n",
    "# from keras import regularizers\n"
   ]
  },
  {
   "cell_type": "code",
   "execution_count": 160,
   "metadata": {},
   "outputs": [
    {
     "ename": "NameError",
     "evalue": "name 'Sequential' is not defined",
     "output_type": "error",
     "traceback": [
      "\u001b[0;31m---------------------------------------------------------------------------\u001b[0m",
      "\u001b[0;31mNameError\u001b[0m                                 Traceback (most recent call last)",
      "\u001b[1;32m/Users/firatkizilboga/Projects/LFD/APS-Failure-Prediction/EDA.ipynb Cell 44\u001b[0m line \u001b[0;36m1\n\u001b[0;32m----> <a href='vscode-notebook-cell:/Users/firatkizilboga/Projects/LFD/APS-Failure-Prediction/EDA.ipynb#Y163sZmlsZQ%3D%3D?line=0'>1</a>\u001b[0m model \u001b[39m=\u001b[39m Sequential()\n\u001b[1;32m      <a href='vscode-notebook-cell:/Users/firatkizilboga/Projects/LFD/APS-Failure-Prediction/EDA.ipynb#Y163sZmlsZQ%3D%3D?line=2'>3</a>\u001b[0m model\u001b[39m.\u001b[39madd(Dense(\u001b[39m64\u001b[39m, input_dim\u001b[39m=\u001b[39mX\u001b[39m.\u001b[39mshape[\u001b[39m1\u001b[39m],\n\u001b[1;32m      <a href='vscode-notebook-cell:/Users/firatkizilboga/Projects/LFD/APS-Failure-Prediction/EDA.ipynb#Y163sZmlsZQ%3D%3D?line=3'>4</a>\u001b[0m                 activation\u001b[39m=\u001b[39m\u001b[39m'\u001b[39m\u001b[39mrelu\u001b[39m\u001b[39m'\u001b[39m,\n\u001b[1;32m      <a href='vscode-notebook-cell:/Users/firatkizilboga/Projects/LFD/APS-Failure-Prediction/EDA.ipynb#Y163sZmlsZQ%3D%3D?line=4'>5</a>\u001b[0m                 kernel_regularizer\u001b[39m=\u001b[39mregularizers\u001b[39m.\u001b[39ml2(\u001b[39m0.01\u001b[39m),\n\u001b[1;32m      <a href='vscode-notebook-cell:/Users/firatkizilboga/Projects/LFD/APS-Failure-Prediction/EDA.ipynb#Y163sZmlsZQ%3D%3D?line=5'>6</a>\u001b[0m                 activity_regularizer\u001b[39m=\u001b[39mregularizers\u001b[39m.\u001b[39ml1(\u001b[39m0.01\u001b[39m)))\n\u001b[1;32m      <a href='vscode-notebook-cell:/Users/firatkizilboga/Projects/LFD/APS-Failure-Prediction/EDA.ipynb#Y163sZmlsZQ%3D%3D?line=6'>7</a>\u001b[0m model\u001b[39m.\u001b[39madd(Dropout(\u001b[39m0.3\u001b[39m))\n",
      "\u001b[0;31mNameError\u001b[0m: name 'Sequential' is not defined"
     ]
    }
   ],
   "source": [
    "# model = Sequential()\n",
    "\n",
    "# model.add(Dense(64, input_dim=X.shape[1],\n",
    "#                 activation='relu',\n",
    "#                 kernel_regularizer=regularizers.l2(0.01),\n",
    "#                 activity_regularizer=regularizers.l1(0.01)))\n",
    "# model.add(Dropout(0.3))\n",
    "# model.add(Dense(64, activation='relu',\n",
    "#                 kernel_regularizer=regularizers.l2(0.01),\n",
    "#                 activity_regularizer=regularizers.l1(0.01)))\n",
    "# model.add(Dropout(0.3))\n",
    "# model.add(Dense(32, activation='relu',\n",
    "#                 kernel_regularizer=regularizers.l2(0.01),\n",
    "#                 activity_regularizer=regularizers.l1(0.01)))\n",
    "# model.add(Dropout(0.3))\n",
    "# model.add(Dense(1, activation='sigmoid'))\n",
    "\n",
    "# sgd = SGD(lr=0.01, decay=1e-6, momentum=0.9)\n",
    "# from keras import backend as K\n",
    "\n",
    "# def f1_score(y_true, y_pred): \n",
    "#     true_positives = K.sum(K.round(K.clip(y_true * y_pred, 0, 1)))\n",
    "#     possible_positives = K.sum(K.round(K.clip(y_true, 0, 1)))\n",
    "#     predicted_positives = K.sum(K.round(K.clip(y_pred, 0, 1)))\n",
    "#     precision = true_positives / (predicted_positives + K.epsilon())\n",
    "#     recall = true_positives / (possible_positives + K.epsilon())\n",
    "#     f1_val = 2*(precision*recall)/(precision+recall+K.epsilon())\n",
    "#     return f1_val\n",
    "\n",
    "# model.compile(loss='binary_crossentropy', optimizer=sgd, metrics=[f1_score])"
   ]
  },
  {
   "cell_type": "code",
   "execution_count": 157,
   "metadata": {},
   "outputs": [
    {
     "name": "stdout",
     "output_type": "stream",
     "text": [
      "Found existing installation: keras 2.15.0\n",
      "Uninstalling keras-2.15.0:\n",
      "  Would remove:\n",
      "    /Users/firatkizilboga/Projects/LFD/APS-Failure-Prediction/.venv/lib/python3.11/site-packages/keras-2.15.0.dist-info/*\n",
      "    /Users/firatkizilboga/Projects/LFD/APS-Failure-Prediction/.venv/lib/python3.11/site-packages/keras/*\n",
      "Proceed (Y/n)? ^C\n",
      "\u001b[31mERROR: Operation cancelled by user\u001b[0m\u001b[31m\n",
      "\u001b[0mNote: you may need to restart the kernel to use updated packages.\n",
      "Requirement already satisfied: keras in ./.venv/lib/python3.11/site-packages (2.15.0)\n",
      "\n",
      "\u001b[1m[\u001b[0m\u001b[34;49mnotice\u001b[0m\u001b[1;39;49m]\u001b[0m\u001b[39;49m A new release of pip is available: \u001b[0m\u001b[31;49m23.1.2\u001b[0m\u001b[39;49m -> \u001b[0m\u001b[32;49m23.3.1\u001b[0m\n",
      "\u001b[1m[\u001b[0m\u001b[34;49mnotice\u001b[0m\u001b[1;39;49m]\u001b[0m\u001b[39;49m To update, run: \u001b[0m\u001b[32;49mpip install --upgrade pip\u001b[0m\n",
      "Note: you may need to restart the kernel to use updated packages.\n"
     ]
    }
   ],
   "source": []
  },
  {
   "cell_type": "code",
   "execution_count": null,
   "metadata": {},
   "outputs": [],
   "source": []
  }
 ],
 "metadata": {
  "kernelspec": {
   "display_name": ".venv",
   "language": "python",
   "name": "python3"
  },
  "language_info": {
   "codemirror_mode": {
    "name": "ipython",
    "version": 3
   },
   "file_extension": ".py",
   "mimetype": "text/x-python",
   "name": "python",
   "nbconvert_exporter": "python",
   "pygments_lexer": "ipython3",
   "version": "3.11.5"
  }
 },
 "nbformat": 4,
 "nbformat_minor": 2
}
