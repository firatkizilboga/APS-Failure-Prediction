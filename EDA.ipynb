{
 "cells": [
  {
   "cell_type": "code",
   "execution_count": 51,
   "metadata": {},
   "outputs": [],
   "source": [
    "import numpy as np\n",
    "import pandas as pd"
   ]
  },
  {
   "cell_type": "code",
   "execution_count": 52,
   "metadata": {},
   "outputs": [
    {
     "data": {
      "text/plain": [
       "0            1\n",
       "1            2\n",
       "2            3\n",
       "3            4\n",
       "4            5\n",
       "         ...  \n",
       "59995    59996\n",
       "59996    59997\n",
       "59997    59998\n",
       "59998    59999\n",
       "59999    60000\n",
       "Name: id, Length: 60000, dtype: int64"
      ]
     },
     "execution_count": 52,
     "metadata": {},
     "output_type": "execute_result"
    }
   ],
   "source": [
    "train_df = pd.read_csv('data/aps_failure_training_set.csv')\n",
    "train_df.pop('id')"
   ]
  },
  {
   "cell_type": "code",
   "execution_count": 53,
   "metadata": {},
   "outputs": [
    {
     "data": {
      "text/html": [
       "<div>\n",
       "<style scoped>\n",
       "    .dataframe tbody tr th:only-of-type {\n",
       "        vertical-align: middle;\n",
       "    }\n",
       "\n",
       "    .dataframe tbody tr th {\n",
       "        vertical-align: top;\n",
       "    }\n",
       "\n",
       "    .dataframe thead th {\n",
       "        text-align: right;\n",
       "    }\n",
       "</style>\n",
       "<table border=\"1\" class=\"dataframe\">\n",
       "  <thead>\n",
       "    <tr style=\"text-align: right;\">\n",
       "      <th></th>\n",
       "      <th>class</th>\n",
       "      <th>aa_000</th>\n",
       "      <th>ab_000</th>\n",
       "      <th>ac_000</th>\n",
       "      <th>ad_000</th>\n",
       "      <th>ae_000</th>\n",
       "      <th>af_000</th>\n",
       "      <th>ag_000</th>\n",
       "      <th>ag_001</th>\n",
       "      <th>ag_002</th>\n",
       "      <th>...</th>\n",
       "      <th>ee_002</th>\n",
       "      <th>ee_003</th>\n",
       "      <th>ee_004</th>\n",
       "      <th>ee_005</th>\n",
       "      <th>ee_006</th>\n",
       "      <th>ee_007</th>\n",
       "      <th>ee_008</th>\n",
       "      <th>ee_009</th>\n",
       "      <th>ef_000</th>\n",
       "      <th>eg_000</th>\n",
       "    </tr>\n",
       "  </thead>\n",
       "  <tbody>\n",
       "    <tr>\n",
       "      <th>0</th>\n",
       "      <td>neg</td>\n",
       "      <td>76698</td>\n",
       "      <td>na</td>\n",
       "      <td>2130706438</td>\n",
       "      <td>280</td>\n",
       "      <td>0</td>\n",
       "      <td>0</td>\n",
       "      <td>0</td>\n",
       "      <td>0</td>\n",
       "      <td>0</td>\n",
       "      <td>...</td>\n",
       "      <td>1240520</td>\n",
       "      <td>493384</td>\n",
       "      <td>721044</td>\n",
       "      <td>469792</td>\n",
       "      <td>339156</td>\n",
       "      <td>157956</td>\n",
       "      <td>73224</td>\n",
       "      <td>0</td>\n",
       "      <td>0</td>\n",
       "      <td>0</td>\n",
       "    </tr>\n",
       "    <tr>\n",
       "      <th>1</th>\n",
       "      <td>neg</td>\n",
       "      <td>33058</td>\n",
       "      <td>na</td>\n",
       "      <td>0</td>\n",
       "      <td>na</td>\n",
       "      <td>0</td>\n",
       "      <td>0</td>\n",
       "      <td>0</td>\n",
       "      <td>0</td>\n",
       "      <td>0</td>\n",
       "      <td>...</td>\n",
       "      <td>421400</td>\n",
       "      <td>178064</td>\n",
       "      <td>293306</td>\n",
       "      <td>245416</td>\n",
       "      <td>133654</td>\n",
       "      <td>81140</td>\n",
       "      <td>97576</td>\n",
       "      <td>1500</td>\n",
       "      <td>0</td>\n",
       "      <td>0</td>\n",
       "    </tr>\n",
       "    <tr>\n",
       "      <th>2</th>\n",
       "      <td>neg</td>\n",
       "      <td>41040</td>\n",
       "      <td>na</td>\n",
       "      <td>228</td>\n",
       "      <td>100</td>\n",
       "      <td>0</td>\n",
       "      <td>0</td>\n",
       "      <td>0</td>\n",
       "      <td>0</td>\n",
       "      <td>0</td>\n",
       "      <td>...</td>\n",
       "      <td>277378</td>\n",
       "      <td>159812</td>\n",
       "      <td>423992</td>\n",
       "      <td>409564</td>\n",
       "      <td>320746</td>\n",
       "      <td>158022</td>\n",
       "      <td>95128</td>\n",
       "      <td>514</td>\n",
       "      <td>0</td>\n",
       "      <td>0</td>\n",
       "    </tr>\n",
       "    <tr>\n",
       "      <th>3</th>\n",
       "      <td>neg</td>\n",
       "      <td>12</td>\n",
       "      <td>0</td>\n",
       "      <td>70</td>\n",
       "      <td>66</td>\n",
       "      <td>0</td>\n",
       "      <td>10</td>\n",
       "      <td>0</td>\n",
       "      <td>0</td>\n",
       "      <td>0</td>\n",
       "      <td>...</td>\n",
       "      <td>240</td>\n",
       "      <td>46</td>\n",
       "      <td>58</td>\n",
       "      <td>44</td>\n",
       "      <td>10</td>\n",
       "      <td>0</td>\n",
       "      <td>0</td>\n",
       "      <td>0</td>\n",
       "      <td>4</td>\n",
       "      <td>32</td>\n",
       "    </tr>\n",
       "    <tr>\n",
       "      <th>4</th>\n",
       "      <td>neg</td>\n",
       "      <td>60874</td>\n",
       "      <td>na</td>\n",
       "      <td>1368</td>\n",
       "      <td>458</td>\n",
       "      <td>0</td>\n",
       "      <td>0</td>\n",
       "      <td>0</td>\n",
       "      <td>0</td>\n",
       "      <td>0</td>\n",
       "      <td>...</td>\n",
       "      <td>622012</td>\n",
       "      <td>229790</td>\n",
       "      <td>405298</td>\n",
       "      <td>347188</td>\n",
       "      <td>286954</td>\n",
       "      <td>311560</td>\n",
       "      <td>433954</td>\n",
       "      <td>1218</td>\n",
       "      <td>0</td>\n",
       "      <td>0</td>\n",
       "    </tr>\n",
       "    <tr>\n",
       "      <th>...</th>\n",
       "      <td>...</td>\n",
       "      <td>...</td>\n",
       "      <td>...</td>\n",
       "      <td>...</td>\n",
       "      <td>...</td>\n",
       "      <td>...</td>\n",
       "      <td>...</td>\n",
       "      <td>...</td>\n",
       "      <td>...</td>\n",
       "      <td>...</td>\n",
       "      <td>...</td>\n",
       "      <td>...</td>\n",
       "      <td>...</td>\n",
       "      <td>...</td>\n",
       "      <td>...</td>\n",
       "      <td>...</td>\n",
       "      <td>...</td>\n",
       "      <td>...</td>\n",
       "      <td>...</td>\n",
       "      <td>...</td>\n",
       "      <td>...</td>\n",
       "    </tr>\n",
       "    <tr>\n",
       "      <th>59995</th>\n",
       "      <td>neg</td>\n",
       "      <td>153002</td>\n",
       "      <td>na</td>\n",
       "      <td>664</td>\n",
       "      <td>186</td>\n",
       "      <td>0</td>\n",
       "      <td>0</td>\n",
       "      <td>0</td>\n",
       "      <td>0</td>\n",
       "      <td>0</td>\n",
       "      <td>...</td>\n",
       "      <td>998500</td>\n",
       "      <td>566884</td>\n",
       "      <td>1290398</td>\n",
       "      <td>1218244</td>\n",
       "      <td>1019768</td>\n",
       "      <td>717762</td>\n",
       "      <td>898642</td>\n",
       "      <td>28588</td>\n",
       "      <td>0</td>\n",
       "      <td>0</td>\n",
       "    </tr>\n",
       "    <tr>\n",
       "      <th>59996</th>\n",
       "      <td>neg</td>\n",
       "      <td>2286</td>\n",
       "      <td>na</td>\n",
       "      <td>2130706538</td>\n",
       "      <td>224</td>\n",
       "      <td>0</td>\n",
       "      <td>0</td>\n",
       "      <td>0</td>\n",
       "      <td>0</td>\n",
       "      <td>0</td>\n",
       "      <td>...</td>\n",
       "      <td>10578</td>\n",
       "      <td>6760</td>\n",
       "      <td>21126</td>\n",
       "      <td>68424</td>\n",
       "      <td>136</td>\n",
       "      <td>0</td>\n",
       "      <td>0</td>\n",
       "      <td>0</td>\n",
       "      <td>0</td>\n",
       "      <td>0</td>\n",
       "    </tr>\n",
       "    <tr>\n",
       "      <th>59997</th>\n",
       "      <td>neg</td>\n",
       "      <td>112</td>\n",
       "      <td>0</td>\n",
       "      <td>2130706432</td>\n",
       "      <td>18</td>\n",
       "      <td>0</td>\n",
       "      <td>0</td>\n",
       "      <td>0</td>\n",
       "      <td>0</td>\n",
       "      <td>0</td>\n",
       "      <td>...</td>\n",
       "      <td>792</td>\n",
       "      <td>386</td>\n",
       "      <td>452</td>\n",
       "      <td>144</td>\n",
       "      <td>146</td>\n",
       "      <td>2622</td>\n",
       "      <td>0</td>\n",
       "      <td>0</td>\n",
       "      <td>0</td>\n",
       "      <td>0</td>\n",
       "    </tr>\n",
       "    <tr>\n",
       "      <th>59998</th>\n",
       "      <td>neg</td>\n",
       "      <td>80292</td>\n",
       "      <td>na</td>\n",
       "      <td>2130706432</td>\n",
       "      <td>494</td>\n",
       "      <td>0</td>\n",
       "      <td>0</td>\n",
       "      <td>0</td>\n",
       "      <td>0</td>\n",
       "      <td>0</td>\n",
       "      <td>...</td>\n",
       "      <td>699352</td>\n",
       "      <td>222654</td>\n",
       "      <td>347378</td>\n",
       "      <td>225724</td>\n",
       "      <td>194440</td>\n",
       "      <td>165070</td>\n",
       "      <td>802280</td>\n",
       "      <td>388422</td>\n",
       "      <td>0</td>\n",
       "      <td>0</td>\n",
       "    </tr>\n",
       "    <tr>\n",
       "      <th>59999</th>\n",
       "      <td>neg</td>\n",
       "      <td>40222</td>\n",
       "      <td>na</td>\n",
       "      <td>698</td>\n",
       "      <td>628</td>\n",
       "      <td>0</td>\n",
       "      <td>0</td>\n",
       "      <td>0</td>\n",
       "      <td>0</td>\n",
       "      <td>0</td>\n",
       "      <td>...</td>\n",
       "      <td>440066</td>\n",
       "      <td>183200</td>\n",
       "      <td>344546</td>\n",
       "      <td>254068</td>\n",
       "      <td>225148</td>\n",
       "      <td>158304</td>\n",
       "      <td>170384</td>\n",
       "      <td>158</td>\n",
       "      <td>0</td>\n",
       "      <td>0</td>\n",
       "    </tr>\n",
       "  </tbody>\n",
       "</table>\n",
       "<p>60000 rows × 171 columns</p>\n",
       "</div>"
      ],
      "text/plain": [
       "      class  aa_000 ab_000      ac_000 ad_000 ae_000 af_000 ag_000 ag_001  \\\n",
       "0       neg   76698     na  2130706438    280      0      0      0      0   \n",
       "1       neg   33058     na           0     na      0      0      0      0   \n",
       "2       neg   41040     na         228    100      0      0      0      0   \n",
       "3       neg      12      0          70     66      0     10      0      0   \n",
       "4       neg   60874     na        1368    458      0      0      0      0   \n",
       "...     ...     ...    ...         ...    ...    ...    ...    ...    ...   \n",
       "59995   neg  153002     na         664    186      0      0      0      0   \n",
       "59996   neg    2286     na  2130706538    224      0      0      0      0   \n",
       "59997   neg     112      0  2130706432     18      0      0      0      0   \n",
       "59998   neg   80292     na  2130706432    494      0      0      0      0   \n",
       "59999   neg   40222     na         698    628      0      0      0      0   \n",
       "\n",
       "      ag_002  ...   ee_002  ee_003   ee_004   ee_005   ee_006  ee_007  ee_008  \\\n",
       "0          0  ...  1240520  493384   721044   469792   339156  157956   73224   \n",
       "1          0  ...   421400  178064   293306   245416   133654   81140   97576   \n",
       "2          0  ...   277378  159812   423992   409564   320746  158022   95128   \n",
       "3          0  ...      240      46       58       44       10       0       0   \n",
       "4          0  ...   622012  229790   405298   347188   286954  311560  433954   \n",
       "...      ...  ...      ...     ...      ...      ...      ...     ...     ...   \n",
       "59995      0  ...   998500  566884  1290398  1218244  1019768  717762  898642   \n",
       "59996      0  ...    10578    6760    21126    68424      136       0       0   \n",
       "59997      0  ...      792     386      452      144      146    2622       0   \n",
       "59998      0  ...   699352  222654   347378   225724   194440  165070  802280   \n",
       "59999      0  ...   440066  183200   344546   254068   225148  158304  170384   \n",
       "\n",
       "       ee_009 ef_000 eg_000  \n",
       "0           0      0      0  \n",
       "1        1500      0      0  \n",
       "2         514      0      0  \n",
       "3           0      4     32  \n",
       "4        1218      0      0  \n",
       "...       ...    ...    ...  \n",
       "59995   28588      0      0  \n",
       "59996       0      0      0  \n",
       "59997       0      0      0  \n",
       "59998  388422      0      0  \n",
       "59999     158      0      0  \n",
       "\n",
       "[60000 rows x 171 columns]"
      ]
     },
     "execution_count": 53,
     "metadata": {},
     "output_type": "execute_result"
    }
   ],
   "source": [
    "train_df"
   ]
  },
  {
   "cell_type": "code",
   "execution_count": 54,
   "metadata": {},
   "outputs": [],
   "source": [
    "cols = pd.Series(train_df.columns)\n",
    "\n",
    "counts = cols.apply(lambda x: x.split(\"_\")[0]).value_counts().to_dict()\n",
    "categorical_cols_idx = cols.apply(\n",
    "    lambda x: True if counts[x.split(\"_\")[0]] > 1 else False)\n",
    "\n",
    "#get the columns that are categorical\n",
    "categorical_cols = cols[categorical_cols_idx]\n",
    "\n",
    "categorical_cols"
   ]
  },
  {
   "cell_type": "code",
   "execution_count": 59,
   "metadata": {},
   "outputs": [
    {
     "data": {
      "text/plain": [
       "{'ag': 10, 'ay': 10, 'az': 10, 'ba': 10, 'cn': 10, 'cs': 10, 'ee': 10}"
      ]
     },
     "execution_count": 59,
     "metadata": {},
     "output_type": "execute_result"
    }
   ],
   "source": [
    "categorical_cols.apply(lambda x: x.split(\"_\")[0]).value_counts().to_dict()"
   ]
  },
  {
   "cell_type": "code",
   "execution_count": 60,
   "metadata": {},
   "outputs": [
    {
     "data": {
      "text/plain": [
       "<Axes: >"
      ]
     },
     "execution_count": 60,
     "metadata": {},
     "output_type": "execute_result"
    },
    {
     "data": {
      "image/png": "[encoded data removed]",
      "text/plain": [
       "<Figure size 640x480 with 1 Axes>"
      ]
     },
     "metadata": {},
     "output_type": "display_data"
    }
   ],
   "source": [
    "#given this dataset plot the means train_df.filter(regex='cs_[0-9][0-9][0-9]')\n",
    "train_df.filter(regex='cs_[0-9][0-9][0-9]').replace('na', 0).astype(int).mean().plot(kind='bar')"
   ]
  },
  {
   "cell_type": "code",
   "execution_count": 61,
   "metadata": {},
   "outputs": [
    {
     "data": {
      "text/plain": [
       "<Axes: >"
      ]
     },
     "execution_count": 61,
     "metadata": {},
     "output_type": "execute_result"
    },
    {
     "data": {
      "image/png": "[encoded data removed]",
      "text/plain": [
       "<Figure size 640x480 with 1 Axes>"
      ]
     },
     "metadata": {},
     "output_type": "display_data"
    }
   ],
   "source": [
    "train_df.filter(regex='ee_[0-9][0-9][0-9]').replace('na', 0).astype(int).mean().plot(kind='bar')"
   ]
  },
  {
   "cell_type": "code",
   "execution_count": 62,
   "metadata": {},
   "outputs": [
    {
     "data": {
      "text/plain": [
       "<Axes: >"
      ]
     },
     "execution_count": 62,
     "metadata": {},
     "output_type": "execute_result"
    },
    {
     "data": {
      "image/png": "[encoded data removed]",
      "text/plain": [
       "<Figure size 640x480 with 1 Axes>"
      ]
     },
     "metadata": {},
     "output_type": "display_data"
    }
   ],
   "source": [
    "train_df.filter(regex='ag_[0-9][0-9][0-9]').replace('na', 0).astype(int).mean().plot(kind='bar')"
   ]
  },
  {
   "cell_type": "code",
   "execution_count": 63,
   "metadata": {},
   "outputs": [
    {
     "data": {
      "text/plain": [
       "<Axes: >"
      ]
     },
     "execution_count": 63,
     "metadata": {},
     "output_type": "execute_result"
    },
    {
     "data": {
      "image/png": "[encoded data removed]",
      "text/plain": [
       "<Figure size 640x480 with 1 Axes>"
      ]
     },
     "metadata": {},
     "output_type": "display_data"
    }
   ],
   "source": [
    "train_df.filter(regex='ay_[0-9][0-9][0-9]').replace('na', 0).astype(int).mean().plot(kind='bar')"
   ]
  },
  {
   "cell_type": "code",
   "execution_count": 65,
   "metadata": {},
   "outputs": [
    {
     "data": {
      "text/plain": [
       "<Axes: >"
      ]
     },
     "execution_count": 65,
     "metadata": {},
     "output_type": "execute_result"
    },
    {
     "data": {
      "image/png": "[encoded data removed]",
      "text/plain": [
       "<Figure size 640x480 with 1 Axes>"
      ]
     },
     "metadata": {},
     "output_type": "display_data"
    }
   ],
   "source": [
    "train_df.filter(regex='az_[0-9][0-9][0-9]').replace('na', 0).astype(int).mean().plot(kind='bar')"
   ]
  },
  {
   "cell_type": "code",
   "execution_count": 66,
   "metadata": {},
   "outputs": [
    {
     "data": {
      "text/plain": [
       "<Axes: >"
      ]
     },
     "execution_count": 66,
     "metadata": {},
     "output_type": "execute_result"
    },
    {
     "data": {
      "image/png": "[encoded data removed]",
      "text/plain": [
       "<Figure size 640x480 with 1 Axes>"
      ]
     },
     "metadata": {},
     "output_type": "display_data"
    }
   ],
   "source": [
    "train_df.filter(regex='ba_[0-9][0-9][0-9]').replace('na', 0).astype(int).mean().plot(kind='bar')"
   ]
  },
  {
   "cell_type": "code",
   "execution_count": 67,
   "metadata": {},
   "outputs": [
    {
     "data": {
      "text/plain": [
       "<Axes: >"
      ]
     },
     "execution_count": 67,
     "metadata": {},
     "output_type": "execute_result"
    },
    {
     "data": {
      "image/png": "[encoded data removed]",
      "text/plain": [
       "<Figure size 640x480 with 1 Axes>"
      ]
     },
     "metadata": {},
     "output_type": "display_data"
    }
   ],
   "source": [
    "train_df.filter(regex='cn_[0-9][0-9][0-9]').replace('na', 0).astype(int).mean().plot(kind='bar')"
   ]
  },
  {
   "cell_type": "code",
   "execution_count": 68,
   "metadata": {},
   "outputs": [],
   "source": [
    "train_df_for_corr = train_df.copy()"
   ]
  },
  {
   "cell_type": "code",
   "execution_count": 69,
   "metadata": {},
   "outputs": [],
   "source": [
    "#look at the correlation between the columns against the targe\n",
    "train_df_for_corr[\"class\"] = train_df_for_corr[\"class\"].replace(['neg', 'pos'], [0, 1])\n",
    "train_df_for_corr = train_df_for_corr.replace('na', 0).astype(float).corr()"
   ]
  },
  {
   "cell_type": "code",
   "execution_count": 70,
   "metadata": {},
   "outputs": [],
   "source": [
    "#get non categorical columns\n",
    "numerical_columns = cols[~categorical_cols_idx]\n",
    "numerical_columns = numerical_columns[2:]"
   ]
  },
  {
   "cell_type": "code",
   "execution_count": 71,
   "metadata": {},
   "outputs": [
    {
     "data": {
      "text/plain": [
       "2      ab_000\n",
       "3      ac_000\n",
       "4      ad_000\n",
       "5      ae_000\n",
       "6      af_000\n",
       "        ...  \n",
       "156    eb_000\n",
       "157     ec_00\n",
       "158    ed_000\n",
       "169    ef_000\n",
       "170    eg_000\n",
       "Length: 99, dtype: object"
      ]
     },
     "execution_count": 71,
     "metadata": {},
     "output_type": "execute_result"
    }
   ],
   "source": [
    "numerical_columns"
   ]
  },
  {
   "cell_type": "code",
   "execution_count": null,
   "metadata": {},
   "outputs": [],
   "source": []
  },
  {
   "cell_type": "code",
   "execution_count": 134,
   "metadata": {},
   "outputs": [
    {
     "data": {
      "text/plain": [
       "<Axes: >"
      ]
     },
     "execution_count": 134,
     "metadata": {},
     "output_type": "execute_result"
    },
    {
     "data": {
      "image/png": "[encoded data removed]",
      "text/plain": [
       "<Figure size 640x480 with 1 Axes>"
      ]
     },
     "metadata": {},
     "output_type": "display_data"
    }
   ],
   "source": [
    "train_df_for_corr[\"class\"].abs()[numerical_columns].sort_values(ascending=False).plot(kind='bar')\n",
    "relevant_col_bools = train_df_for_corr[\"class\"].abs()[numerical_columns].sort_values(ascending=False) > 0.3"
   ]
  },
  {
   "cell_type": "code",
   "execution_count": 119,
   "metadata": {},
   "outputs": [],
   "source": [
    "#get the columns that are relevant\n",
    "relevant_numerical_cols = relevant_col_bools[relevant_col_bools].index"
   ]
  },
  {
   "cell_type": "code",
   "execution_count": 76,
   "metadata": {},
   "outputs": [
    {
     "name": "stderr",
     "output_type": "stream",
     "text": [
      "/Users/firatkizilboga/Projects/LFD/APS-Failure-Prediction/.venv/lib/python3.11/site-packages/sklearn/linear_model/_logistic.py:460: ConvergenceWarning: lbfgs failed to converge (status=1):\n",
      "STOP: TOTAL NO. of ITERATIONS REACHED LIMIT.\n",
      "\n",
      "Increase the number of iterations (max_iter) or scale the data as shown in:\n",
      "    https://scikit-learn.org/stable/modules/preprocessing.html\n",
      "Please also refer to the documentation for alternative solver options:\n",
      "    https://scikit-learn.org/stable/modules/linear_model.html#logistic-regression\n",
      "  n_iter_i = _check_optimize_result(\n"
     ]
    },
    {
     "data": {
      "text/html": [
       "<style>#sk-container-id-2 {color: black;}#sk-container-id-2 pre{padding: 0;}#sk-container-id-2 div.sk-toggleable {background-color: white;}#sk-container-id-2 label.sk-toggleable__label {cursor: pointer;display: block;width: 100%;margin-bottom: 0;padding: 0.3em;box-sizing: border-box;text-align: center;}#sk-container-id-2 label.sk-toggleable__label-arrow:before {content: \"▸\";float: left;margin-right: 0.25em;color: #696969;}#sk-container-id-2 label.sk-toggleable__label-arrow:hover:before {color: black;}#sk-container-id-2 div.sk-estimator:hover label.sk-toggleable__label-arrow:before {color: black;}#sk-container-id-2 div.sk-toggleable__content {max-height: 0;max-width: 0;overflow: hidden;text-align: left;background-color: #f0f8ff;}#sk-container-id-2 div.sk-toggleable__content pre {margin: 0.2em;color: black;border-radius: 0.25em;background-color: #f0f8ff;}#sk-container-id-2 input.sk-toggleable__control:checked~div.sk-toggleable__content {max-height: 200px;max-width: 100%;overflow: auto;}#sk-container-id-2 input.sk-toggleable__control:checked~label.sk-toggleable__label-arrow:before {content: \"▾\";}#sk-container-id-2 div.sk-estimator input.sk-toggleable__control:checked~label.sk-toggleable__label {background-color: #d4ebff;}#sk-container-id-2 div.sk-label input.sk-toggleable__control:checked~label.sk-toggleable__label {background-color: #d4ebff;}#sk-container-id-2 input.sk-hidden--visually {border: 0;clip: rect(1px 1px 1px 1px);clip: rect(1px, 1px, 1px, 1px);height: 1px;margin: -1px;overflow: hidden;padding: 0;position: absolute;width: 1px;}#sk-container-id-2 div.sk-estimator {font-family: monospace;background-color: #f0f8ff;border: 1px dotted black;border-radius: 0.25em;box-sizing: border-box;margin-bottom: 0.5em;}#sk-container-id-2 div.sk-estimator:hover {background-color: #d4ebff;}#sk-container-id-2 div.sk-parallel-item::after {content: \"\";width: 100%;border-bottom: 1px solid gray;flex-grow: 1;}#sk-container-id-2 div.sk-label:hover label.sk-toggleable__label {background-color: #d4ebff;}#sk-container-id-2 div.sk-serial::before {content: \"\";position: absolute;border-left: 1px solid gray;box-sizing: border-box;top: 0;bottom: 0;left: 50%;z-index: 0;}#sk-container-id-2 div.sk-serial {display: flex;flex-direction: column;align-items: center;background-color: white;padding-right: 0.2em;padding-left: 0.2em;position: relative;}#sk-container-id-2 div.sk-item {position: relative;z-index: 1;}#sk-container-id-2 div.sk-parallel {display: flex;align-items: stretch;justify-content: center;background-color: white;position: relative;}#sk-container-id-2 div.sk-item::before, #sk-container-id-2 div.sk-parallel-item::before {content: \"\";position: absolute;border-left: 1px solid gray;box-sizing: border-box;top: 0;bottom: 0;left: 50%;z-index: -1;}#sk-container-id-2 div.sk-parallel-item {display: flex;flex-direction: column;z-index: 1;position: relative;background-color: white;}#sk-container-id-2 div.sk-parallel-item:first-child::after {align-self: flex-end;width: 50%;}#sk-container-id-2 div.sk-parallel-item:last-child::after {align-self: flex-start;width: 50%;}#sk-container-id-2 div.sk-parallel-item:only-child::after {width: 0;}#sk-container-id-2 div.sk-dashed-wrapped {border: 1px dashed gray;margin: 0 0.4em 0.5em 0.4em;box-sizing: border-box;padding-bottom: 0.4em;background-color: white;}#sk-container-id-2 div.sk-label label {font-family: monospace;font-weight: bold;display: inline-block;line-height: 1.2em;}#sk-container-id-2 div.sk-label-container {text-align: center;}#sk-container-id-2 div.sk-container {/* jupyter's `normalize.less` sets `[hidden] { display: none; }` but bootstrap.min.css set `[hidden] { display: none !important; }` so we also need the `!important` here to be able to override the default hidden behavior on the sphinx rendered scikit-learn.org. See: https://github.com/scikit-learn/scikit-learn/issues/21755 */display: inline-block !important;position: relative;}#sk-container-id-2 div.sk-text-repr-fallback {display: none;}</style><div id=\"sk-container-id-2\" class=\"sk-top-container\"><div class=\"sk-text-repr-fallback\"><pre>LogisticRegression(multi_class=&#x27;multinomial&#x27;, random_state=0)</pre><b>In a Jupyter environment, please rerun this cell to show the HTML representation or trust the notebook. <br />On GitHub, the HTML representation is unable to render, please try loading this page with nbviewer.org.</b></div><div class=\"sk-container\" hidden><div class=\"sk-item\"><div class=\"sk-estimator sk-toggleable\"><input class=\"sk-toggleable__control sk-hidden--visually\" id=\"sk-estimator-id-2\" type=\"checkbox\" checked><label for=\"sk-estimator-id-2\" class=\"sk-toggleable__label sk-toggleable__label-arrow\">LogisticRegression</label><div class=\"sk-toggleable__content\"><pre>LogisticRegression(multi_class=&#x27;multinomial&#x27;, random_state=0)</pre></div></div></div></div></div>"
      ],
      "text/plain": [
       "LogisticRegression(multi_class='multinomial', random_state=0)"
      ]
     },
     "execution_count": 76,
     "metadata": {},
     "output_type": "execute_result"
    }
   ],
   "source": [
    "from sklearn.preprocessing import StandardScaler\n",
    "from sklearn.linear_model import LogisticRegression\n",
    "from sklearn.model_selection import train_test_split\n",
    "\n",
    "Y = labels.apply(lambda x: 1 if x == 'pos' else 0).values\n",
    "X = train_df[categorical_cols].replace('na', 0).astype(int).values\n",
    "X_transformed = StandardScaler().fit_transform(X)\n",
    "X_train, X_test, y_train, y_test = train_test_split(X_transformed, Y, test_size=0.33, random_state=42, stratify=Y)\n",
    "clf = LogisticRegression(random_state=0, solver='lbfgs', multi_class='multinomial')\n",
    "clf.fit(X_train, y_train)"
   ]
  },
  {
   "cell_type": "code",
   "execution_count": 77,
   "metadata": {},
   "outputs": [
    {
     "name": "stdout",
     "output_type": "stream",
     "text": [
      "              precision    recall  f1-score   support\n",
      "\n",
      "           0       0.99      1.00      0.99     19470\n",
      "           1       0.76      0.54      0.63       330\n",
      "\n",
      "    accuracy                           0.99     19800\n",
      "   macro avg       0.87      0.77      0.81     19800\n",
      "weighted avg       0.99      0.99      0.99     19800\n",
      "\n",
      "[[19413    57]\n",
      " [  152   178]]\n"
     ]
    }
   ],
   "source": [
    "from sklearn.metrics import classification_report\n",
    "from sklearn.metrics import confusion_matrix\n",
    "y_pred = clf.predict(X_test)\n",
    "\n",
    "print(classification_report(y_test, y_pred))\n",
    "print(confusion_matrix(y_test, y_pred))"
   ]
  },
  {
   "cell_type": "code",
   "execution_count": 78,
   "metadata": {},
   "outputs": [],
   "source": [
    "test_df = pd.read_csv('data/aps_failure_test_set.csv')\n",
    "X = test_df[categorical_cols].replace('na', 0).astype(int).values\n",
    "X_transformed = StandardScaler().fit_transform(X)\n",
    "y_pred_ = clf.predict(X_transformed)"
   ]
  },
  {
   "cell_type": "code",
   "execution_count": 79,
   "metadata": {},
   "outputs": [],
   "source": [
    "def labelize(x):\n",
    "    if x == 1:\n",
    "        return 'pos'\n",
    "    else:\n",
    "        return 'neg'\n",
    "labelize = np.vectorize(labelize)"
   ]
  },
  {
   "cell_type": "code",
   "execution_count": 80,
   "metadata": {},
   "outputs": [],
   "source": [
    "output = pd.DataFrame({'id': np.arange(1,len(y_pred_)+1),\"class\": labelize(y_pred_)})\n",
    "output.to_csv('categorical values standardized logistic regression, output.csv', index=False)"
   ]
  },
  {
   "cell_type": "code",
   "execution_count": 81,
   "metadata": {},
   "outputs": [
    {
     "name": "stdout",
     "output_type": "stream",
     "text": [
      "              precision    recall  f1-score   support\n",
      "\n",
      "           0       0.99      1.00      0.99     19470\n",
      "           1       0.74      0.51      0.61       330\n",
      "\n",
      "    accuracy                           0.99     19800\n",
      "   macro avg       0.87      0.75      0.80     19800\n",
      "weighted avg       0.99      0.99      0.99     19800\n",
      "\n",
      "[[19412    58]\n",
      " [  161   169]]\n"
     ]
    },
    {
     "name": "stderr",
     "output_type": "stream",
     "text": [
      "/Users/firatkizilboga/Projects/LFD/APS-Failure-Prediction/.venv/lib/python3.11/site-packages/sklearn/linear_model/_logistic.py:460: ConvergenceWarning: lbfgs failed to converge (status=1):\n",
      "STOP: TOTAL NO. of ITERATIONS REACHED LIMIT.\n",
      "\n",
      "Increase the number of iterations (max_iter) or scale the data as shown in:\n",
      "    https://scikit-learn.org/stable/modules/preprocessing.html\n",
      "Please also refer to the documentation for alternative solver options:\n",
      "    https://scikit-learn.org/stable/modules/linear_model.html#logistic-regression\n",
      "  n_iter_i = _check_optimize_result(\n"
     ]
    }
   ],
   "source": [
    "from preprocessing import FactorAnalysis\n",
    "\n",
    "FA = FactorAnalysis(50)\n",
    "X = train_df[categorical_cols].replace('na', 0).astype(int).values\n",
    "X_transformed = StandardScaler().fit_transform(X)\n",
    "\n",
    "FA.fit(X_transformed)\n",
    "X_transformed_ = FA.transform(X_transformed)\n",
    "\n",
    "X_train, X_test, y_train, y_test = train_test_split(X_transformed_, Y, test_size=0.33, random_state=42, stratify=Y)\n",
    "clf = LogisticRegression(random_state=0, solver='lbfgs', multi_class='multinomial')\n",
    "\n",
    "clf.fit(X_train, y_train)\n",
    "y_pred = clf.predict(X_test)\n",
    "\n",
    "print(classification_report(y_test, y_pred))\n",
    "\n",
    "print(confusion_matrix(y_test, y_pred))"
   ]
  },
  {
   "cell_type": "code",
   "execution_count": 82,
   "metadata": {},
   "outputs": [
    {
     "data": {
      "text/plain": [
       "0.9934842737430886"
      ]
     },
     "execution_count": 82,
     "metadata": {},
     "output_type": "execute_result"
    }
   ],
   "source": [
    "FA.explained_variance_ratio.sum()"
   ]
  },
  {
   "cell_type": "code",
   "execution_count": 83,
   "metadata": {},
   "outputs": [
    {
     "name": "stdout",
     "output_type": "stream",
     "text": [
      "              precision    recall  f1-score   support\n",
      "\n",
      "           0       0.99      1.00      1.00     19470\n",
      "           1       0.82      0.58      0.68       330\n",
      "\n",
      "    accuracy                           0.99     19800\n",
      "   macro avg       0.91      0.79      0.84     19800\n",
      "weighted avg       0.99      0.99      0.99     19800\n",
      "\n",
      "[[19429    41]\n",
      " [  137   193]]\n"
     ]
    }
   ],
   "source": [
    "#run the same experiment with XGBoost\n",
    "\n",
    "from xgboost import XGBClassifier\n",
    "\n",
    "clf = XGBClassifier()\n",
    "clf.fit(X_train, y_train)\n",
    "y_pred = clf.predict(X_test)\n",
    "\n",
    "print(classification_report(y_test, y_pred))\n",
    "\n",
    "print(confusion_matrix(y_test, y_pred))"
   ]
  },
  {
   "cell_type": "code",
   "execution_count": 84,
   "metadata": {},
   "outputs": [
    {
     "name": "stdout",
     "output_type": "stream",
     "text": [
      "              precision    recall  f1-score   support\n",
      "\n",
      "           0       0.99      1.00      1.00     19470\n",
      "           1       0.88      0.64      0.74       330\n",
      "\n",
      "    accuracy                           0.99     19800\n",
      "   macro avg       0.93      0.82      0.87     19800\n",
      "weighted avg       0.99      0.99      0.99     19800\n",
      "\n",
      "[[19440    30]\n",
      " [  118   212]]\n"
     ]
    }
   ],
   "source": [
    "#xgboost without factor analysis\n",
    "\n",
    "clf = XGBClassifier()\n",
    "X_train, X_test, y_train, y_test = train_test_split(X_transformed, Y, test_size=0.33, random_state=42, stratify=Y)\n",
    "clf.fit(X_train, y_train)\n",
    "y_pred = clf.predict(X_test)\n",
    "\n",
    "print(classification_report(y_test, y_pred))\n",
    "\n",
    "print(confusion_matrix(y_test, y_pred))"
   ]
  },
  {
   "cell_type": "markdown",
   "metadata": {},
   "source": [
    "Factor analysis fails."
   ]
  },
  {
   "cell_type": "code",
   "execution_count": 85,
   "metadata": {},
   "outputs": [],
   "source": [
    "#use test set to predict\n",
    "X = test_df[categorical_cols].replace('na', 0).astype(int).values\n",
    "X_transformed = StandardScaler().fit_transform(X)\n",
    "y_pred_ = clf.predict(X_transformed)\n",
    "\n",
    "output = pd.DataFrame({'id': np.arange(1,len(y_pred_)+1),\"class\": labelize(y_pred_)})\n",
    "output.to_csv('categorical values standardized xgboost, output.csv', index=False)"
   ]
  },
  {
   "cell_type": "code",
   "execution_count": 123,
   "metadata": {},
   "outputs": [],
   "source": [
    "#add two column types together\n",
    "num_cat_cols = pd.Index(categorical_cols).append(pd.Index(relevant_numerical_cols))"
   ]
  },
  {
   "cell_type": "code",
   "execution_count": 87,
   "metadata": {},
   "outputs": [
    {
     "data": {
      "text/plain": [
       "Index(['ci_000', 'bt_000', 'bb_000', 'bv_000', 'bu_000', 'cq_000', 'aq_000',\n",
       "       'bj_000', 'cc_000', 'ah_000', 'an_000', 'bg_000', 'ao_000', 'bx_000',\n",
       "       'ap_000', 'by_000', 'bh_000', 'dn_000', 'ck_000', 'bi_000', 'am_0',\n",
       "       'al_000', 'ed_000', 'dt_000', 'cm_000', 'ds_000', 'cj_000'],\n",
       "      dtype='object')"
      ]
     },
     "execution_count": 87,
     "metadata": {},
     "output_type": "execute_result"
    }
   ],
   "source": [
    "relevant_numerical_cols"
   ]
  },
  {
   "cell_type": "code",
   "execution_count": 88,
   "metadata": {},
   "outputs": [
    {
     "data": {
      "text/plain": [
       "Index(['ag_000', 'ag_001', 'ag_002', 'ag_003', 'ag_004', 'ag_005', 'ag_006',\n",
       "       'ag_007', 'ag_008', 'ag_009', 'ay_000', 'ay_001', 'ay_002', 'ay_003',\n",
       "       'ay_004', 'ay_005', 'ay_006', 'ay_007', 'ay_008', 'ay_009', 'az_000',\n",
       "       'az_001', 'az_002', 'az_003', 'az_004', 'az_005', 'az_006', 'az_007',\n",
       "       'az_008', 'az_009', 'ba_000', 'ba_001', 'ba_002', 'ba_003', 'ba_004',\n",
       "       'ba_005', 'ba_006', 'ba_007', 'ba_008', 'ba_009', 'cn_000', 'cn_001',\n",
       "       'cn_002', 'cn_003', 'cn_004', 'cn_005', 'cn_006', 'cn_007', 'cn_008',\n",
       "       'cn_009', 'cs_000', 'cs_001', 'cs_002', 'cs_003', 'cs_004', 'cs_005',\n",
       "       'cs_006', 'cs_007', 'cs_008', 'cs_009', 'ee_000', 'ee_001', 'ee_002',\n",
       "       'ee_003', 'ee_004', 'ee_005', 'ee_006', 'ee_007', 'ee_008', 'ee_009',\n",
       "       'ci_000', 'bt_000', 'bb_000', 'bv_000', 'bu_000', 'cq_000', 'aq_000',\n",
       "       'bj_000', 'cc_000', 'ah_000', 'an_000', 'bg_000', 'ao_000', 'bx_000',\n",
       "       'ap_000', 'by_000', 'bh_000', 'dn_000', 'ck_000', 'bi_000', 'am_0',\n",
       "       'al_000', 'ed_000', 'dt_000', 'cm_000', 'ds_000', 'cj_000'],\n",
       "      dtype='object')"
      ]
     },
     "execution_count": 88,
     "metadata": {},
     "output_type": "execute_result"
    }
   ],
   "source": [
    "num_cat_cols"
   ]
  },
  {
   "cell_type": "code",
   "execution_count": 89,
   "metadata": {},
   "outputs": [
    {
     "name": "stdout",
     "output_type": "stream",
     "text": [
      "              precision    recall  f1-score   support\n",
      "\n",
      "           0       1.00      1.00      1.00     19470\n",
      "           1       0.86      0.75      0.80       330\n",
      "\n",
      "    accuracy                           0.99     19800\n",
      "   macro avg       0.93      0.87      0.90     19800\n",
      "weighted avg       0.99      0.99      0.99     19800\n",
      "\n",
      "[[19431    39]\n",
      " [   83   247]]\n"
     ]
    }
   ],
   "source": [
    "X = train_df[num_cat_cols].replace('na', 0).astype(float).values\n",
    "X_transformed = StandardScaler().fit_transform(X)\n",
    "X_train, X_test, y_train, y_test = train_test_split(X_transformed, Y, test_size=0.33, random_state=42, stratify=Y)\n",
    "\n",
    "clf = XGBClassifier()\n",
    "clf.fit(X_train, y_train)\n",
    "y_pred = clf.predict(X_test)\n",
    "\n",
    "print(classification_report(y_test, y_pred))\n",
    "\n",
    "print(confusion_matrix(y_test, y_pred))"
   ]
  },
  {
   "cell_type": "code",
   "execution_count": 90,
   "metadata": {},
   "outputs": [],
   "source": [
    "#use test set to predict\n",
    "X = test_df[num_cat_cols].replace('na', 0).astype(float).values\n",
    "X_transformed = StandardScaler().fit_transform(X)\n",
    "y_pred_ = clf.predict(X_transformed)\n",
    "\n",
    "output = pd.DataFrame({'id': np.arange(1,len(y_pred_)+1),\"class\": labelize(y_pred_)})\n",
    "output.to_csv('categorical+relevant numerical values standardized xgboost, output.csv', index=False)"
   ]
  },
  {
   "cell_type": "code",
   "execution_count": 91,
   "metadata": {},
   "outputs": [],
   "source": [
    "#lets apply factor analysis to the numerical columns\n",
    "FA = FactorAnalysis(50)\n",
    "\n",
    "numericals = train_df[numerical_columns].replace('na', 0).astype(float).values\n",
    "numericals_transformed = StandardScaler().fit_transform(numericals)\n",
    "\n",
    "FA.fit(numericals_transformed)\n",
    "numericals_transformed_ = FA.transform(numericals_transformed)\n",
    "X = train_df[categorical_cols].replace('na', 0).astype(int).values\n",
    "X = np.concatenate((X, numericals_transformed_), axis=1)\n",
    "\n",
    "X_transformed = StandardScaler().fit_transform(X)\n",
    "X_train, X_test, y_train, y_test = train_test_split(X, Y, test_size=0.33, random_state=42, stratify=Y)"
   ]
  },
  {
   "cell_type": "code",
   "execution_count": 92,
   "metadata": {},
   "outputs": [
    {
     "name": "stdout",
     "output_type": "stream",
     "text": [
      "              precision    recall  f1-score   support\n",
      "\n",
      "           0       1.00      1.00      1.00     19470\n",
      "           1       0.86      0.72      0.79       330\n",
      "\n",
      "    accuracy                           0.99     19800\n",
      "   macro avg       0.93      0.86      0.89     19800\n",
      "weighted avg       0.99      0.99      0.99     19800\n",
      "\n",
      "[[19432    38]\n",
      " [   91   239]]\n"
     ]
    }
   ],
   "source": [
    "clf = XGBClassifier()\n",
    "clf.fit(X_train, y_train)\n",
    "y_pred = clf.predict(X_test)\n",
    "\n",
    "print(classification_report(y_test, y_pred))\n",
    "\n",
    "print(confusion_matrix(y_test, y_pred))"
   ]
  },
  {
   "cell_type": "markdown",
   "metadata": {},
   "source": [
    "FA Hurts performance."
   ]
  },
  {
   "cell_type": "code",
   "execution_count": 93,
   "metadata": {},
   "outputs": [],
   "source": [
    "from preprocessing import LDA"
   ]
  },
  {
   "cell_type": "code",
   "execution_count": 124,
   "metadata": {},
   "outputs": [
    {
     "name": "stdout",
     "output_type": "stream",
     "text": [
      "(60000, 127) (127, 70)\n"
     ]
    }
   ],
   "source": [
    "X = train_df[num_cat_cols].replace('na', 0).astype(float).values\n",
    "X_transformed = StandardScaler().fit_transform(X)\n",
    "lda = LDA(70)\n",
    "lda.fit(X_transformed, Y)\n",
    "X_transformed_ = lda.transform(X_transformed)\n",
    "X_train, X_test, y_train, y_test = train_test_split(X_transformed_, Y, test_size=0.33, random_state=42, stratify=Y)"
   ]
  },
  {
   "cell_type": "code",
   "execution_count": 95,
   "metadata": {},
   "outputs": [
    {
     "name": "stderr",
     "output_type": "stream",
     "text": [
      "/Users/firatkizilboga/Projects/LFD/APS-Failure-Prediction/.venv/lib/python3.11/site-packages/xgboost/core.py:160: UserWarning: [22:46:13] WARNING: /Users/runner/work/xgboost/xgboost/src/learner.cc:742: \n",
      "Parameters: { \"silent\" } are not used.\n",
      "\n",
      "  warnings.warn(smsg, UserWarning)\n"
     ]
    },
    {
     "name": "stdout",
     "output_type": "stream",
     "text": [
      "              precision    recall  f1-score   support\n",
      "\n",
      "           0       0.99      1.00      1.00     19470\n",
      "           1       0.83      0.65      0.72       330\n",
      "\n",
      "    accuracy                           0.99     19800\n",
      "   macro avg       0.91      0.82      0.86     19800\n",
      "weighted avg       0.99      0.99      0.99     19800\n",
      "\n",
      "[[19425    45]\n",
      " [  117   213]]\n"
     ]
    }
   ],
   "source": [
    "clf = XGBClassifier(max_depth=3, learning_rate=0.1, n_estimators=100, silent=True, objective='binary:logistic', booster='gbtree')\n",
    "clf.fit(X_train, y_train)\n",
    "y_pred = clf.predict(X_test)\n",
    "\n",
    "print(classification_report(y_test, y_pred))\n",
    "\n",
    "print(confusion_matrix(y_test, y_pred))"
   ]
  },
  {
   "cell_type": "code",
   "execution_count": 96,
   "metadata": {},
   "outputs": [],
   "source": [
    "#use keras to create a neural network\n",
    "from keras.models import Sequential\n",
    "from keras.layers import Dense, Dropout, Activation\n",
    "#use momentum optimizer\n",
    "from keras.optimizers.legacy import Adam\n",
    "from keras import regularizers\n"
   ]
  },
  {
   "cell_type": "code",
   "execution_count": 126,
   "metadata": {},
   "outputs": [
    {
     "name": "stderr",
     "output_type": "stream",
     "text": [
      "/Users/firatkizilboga/Projects/LFD/APS-Failure-Prediction/.venv/lib/python3.11/site-packages/keras/src/optimizers/legacy/adam.py:118: UserWarning: The `lr` argument is deprecated, use `learning_rate` instead.\n",
      "  super().__init__(name, **kwargs)\n"
     ]
    }
   ],
   "source": [
    "model = Sequential()\n",
    "\n",
    "model.add(Dense(64, input_dim=X_transformed.shape[1],\n",
    "                activation='relu',\n",
    "                kernel_regularizer=regularizers.l2(0.01),\n",
    "                activity_regularizer=regularizers.l1(0.01)))\n",
    "model.add(Dropout(0.3))\n",
    "model.add(Dense(64, activation='relu',\n",
    "                kernel_regularizer=regularizers.l2(0.01),\n",
    "                activity_regularizer=regularizers.l1(0.01)))\n",
    "model.add(Dropout(0.3))\n",
    "model.add(Dense(32, activation='relu',\n",
    "                kernel_regularizer=regularizers.l2(0.01),\n",
    "                activity_regularizer=regularizers.l1(0.01)))\n",
    "model.add(Dropout(0.3))\n",
    "model.add(Dense(32, activation='relu',\n",
    "                kernel_regularizer=regularizers.l2(0.01),\n",
    "                activity_regularizer=regularizers.l1(0.01)))\n",
    "model.add(Dropout(0.3))\n",
    "model.add(Dense(32, activation='relu',\n",
    "                kernel_regularizer=regularizers.l2(0.01),\n",
    "                activity_regularizer=regularizers.l1(0.01)))\n",
    "model.add(Dropout(0.3))\n",
    "model.add(Dense(32, activation='relu',\n",
    "                kernel_regularizer=regularizers.l2(0.01),\n",
    "                activity_regularizer=regularizers.l1(0.01)))\n",
    "model.add(Dropout(0.3))\n",
    "model.add(Dense(32, activation='relu',\n",
    "                kernel_regularizer=regularizers.l2(0.01),\n",
    "                activity_regularizer=regularizers.l1(0.01)))\n",
    "model.add(Dropout(0.3))\n",
    "model.add(Dense(1, activation='sigmoid'))\n",
    "\n",
    "adam = Adam(lr=0.0001, beta_1=0.9, beta_2=0.999, epsilon=1e-8)\n",
    "model.compile(loss='binary_crossentropy', optimizer=adam, metrics=['accuracy'])\n"
   ]
  },
  {
   "cell_type": "code",
   "execution_count": 127,
   "metadata": {},
   "outputs": [],
   "source": [
    "from sklearn.utils import class_weight\n",
    "class_weights = class_weight.compute_class_weight(classes=np.unique(Y), y=Y, class_weight='balanced')\n",
    "\n",
    "cw = {0: float(class_weights[0]), 1: float(class_weights[1])}"
   ]
  },
  {
   "cell_type": "code",
   "execution_count": 128,
   "metadata": {},
   "outputs": [
    {
     "name": "stdout",
     "output_type": "stream",
     "text": [
      "Epoch 1/100\n",
      "315/315 [==============================] - 1s 2ms/step - loss: 4.0235 - accuracy: 0.5830 - val_loss: 3.8176 - val_accuracy: 0.9026\n",
      "Epoch 2/100\n",
      "315/315 [==============================] - 1s 2ms/step - loss: 3.5846 - accuracy: 0.8517 - val_loss: 3.5231 - val_accuracy: 0.9338\n",
      "Epoch 3/100\n",
      "315/315 [==============================] - 1s 2ms/step - loss: 3.2812 - accuracy: 0.9007 - val_loss: 3.2549 - val_accuracy: 0.9480\n",
      "Epoch 4/100\n",
      "315/315 [==============================] - 0s 2ms/step - loss: 3.0127 - accuracy: 0.9238 - val_loss: 3.0022 - val_accuracy: 0.9526\n",
      "Epoch 5/100\n",
      "315/315 [==============================] - 0s 2ms/step - loss: 2.7532 - accuracy: 0.9385 - val_loss: 2.7578 - val_accuracy: 0.9553\n",
      "Epoch 6/100\n",
      "315/315 [==============================] - 0s 2ms/step - loss: 2.5104 - accuracy: 0.9443 - val_loss: 2.5207 - val_accuracy: 0.9595\n",
      "Epoch 7/100\n",
      "315/315 [==============================] - 0s 2ms/step - loss: 2.2860 - accuracy: 0.9509 - val_loss: 2.3003 - val_accuracy: 0.9608\n",
      "Epoch 8/100\n",
      "315/315 [==============================] - 1s 2ms/step - loss: 2.0750 - accuracy: 0.9547 - val_loss: 2.0843 - val_accuracy: 0.9643\n",
      "Epoch 9/100\n",
      "315/315 [==============================] - 1s 2ms/step - loss: 1.8770 - accuracy: 0.9601 - val_loss: 1.8858 - val_accuracy: 0.9658\n",
      "Epoch 10/100\n",
      "315/315 [==============================] - 1s 2ms/step - loss: 1.6902 - accuracy: 0.9629 - val_loss: 1.6996 - val_accuracy: 0.9687\n",
      "Epoch 11/100\n",
      "315/315 [==============================] - 1s 2ms/step - loss: 1.5230 - accuracy: 0.9659 - val_loss: 1.5352 - val_accuracy: 0.9694\n",
      "Epoch 12/100\n",
      "315/315 [==============================] - 1s 2ms/step - loss: 1.3685 - accuracy: 0.9675 - val_loss: 1.3838 - val_accuracy: 0.9696\n",
      "Epoch 13/100\n",
      "315/315 [==============================] - 1s 2ms/step - loss: 1.2331 - accuracy: 0.9686 - val_loss: 1.2403 - val_accuracy: 0.9712\n",
      "Epoch 14/100\n",
      "315/315 [==============================] - 1s 2ms/step - loss: 1.1036 - accuracy: 0.9714 - val_loss: 1.1102 - val_accuracy: 0.9723\n",
      "Epoch 15/100\n",
      "315/315 [==============================] - 1s 2ms/step - loss: 0.9998 - accuracy: 0.9710 - val_loss: 1.0113 - val_accuracy: 0.9707\n",
      "Epoch 16/100\n",
      "315/315 [==============================] - 1s 2ms/step - loss: 0.8921 - accuracy: 0.9723 - val_loss: 0.9138 - val_accuracy: 0.9704\n",
      "Epoch 17/100\n",
      "315/315 [==============================] - 1s 2ms/step - loss: 0.8094 - accuracy: 0.9724 - val_loss: 0.8172 - val_accuracy: 0.9726\n",
      "Epoch 18/100\n",
      "315/315 [==============================] - 1s 2ms/step - loss: 0.7390 - accuracy: 0.9734 - val_loss: 0.7427 - val_accuracy: 0.9734\n",
      "Epoch 19/100\n",
      "315/315 [==============================] - 1s 2ms/step - loss: 0.6718 - accuracy: 0.9736 - val_loss: 0.6939 - val_accuracy: 0.9702\n",
      "Epoch 20/100\n",
      "315/315 [==============================] - 1s 2ms/step - loss: 0.6254 - accuracy: 0.9745 - val_loss: 0.6340 - val_accuracy: 0.9720\n",
      "Epoch 21/100\n",
      "315/315 [==============================] - 1s 2ms/step - loss: 0.5686 - accuracy: 0.9745 - val_loss: 0.5689 - val_accuracy: 0.9757\n",
      "Epoch 22/100\n",
      "315/315 [==============================] - 0s 2ms/step - loss: 0.5376 - accuracy: 0.9749 - val_loss: 0.5315 - val_accuracy: 0.9766\n",
      "Epoch 23/100\n",
      "315/315 [==============================] - 1s 2ms/step - loss: 0.5046 - accuracy: 0.9762 - val_loss: 0.5080 - val_accuracy: 0.9746\n",
      "Epoch 24/100\n",
      "315/315 [==============================] - 0s 2ms/step - loss: 0.4843 - accuracy: 0.9753 - val_loss: 0.4918 - val_accuracy: 0.9727\n",
      "Epoch 25/100\n",
      "315/315 [==============================] - 0s 2ms/step - loss: 0.4592 - accuracy: 0.9752 - val_loss: 0.4621 - val_accuracy: 0.9745\n",
      "Epoch 26/100\n",
      "315/315 [==============================] - 0s 2ms/step - loss: 0.4405 - accuracy: 0.9756 - val_loss: 0.4635 - val_accuracy: 0.9701\n",
      "Epoch 27/100\n",
      "315/315 [==============================] - 0s 2ms/step - loss: 0.4286 - accuracy: 0.9752 - val_loss: 0.4398 - val_accuracy: 0.9714\n",
      "Epoch 28/100\n",
      "315/315 [==============================] - 0s 2ms/step - loss: 0.4106 - accuracy: 0.9762 - val_loss: 0.4103 - val_accuracy: 0.9751\n",
      "Epoch 29/100\n",
      "315/315 [==============================] - 0s 1ms/step - loss: 0.4003 - accuracy: 0.9782 - val_loss: 0.3996 - val_accuracy: 0.9757\n",
      "Epoch 30/100\n",
      "315/315 [==============================] - 0s 2ms/step - loss: 0.3939 - accuracy: 0.9760 - val_loss: 0.3950 - val_accuracy: 0.9735\n",
      "Epoch 31/100\n",
      "315/315 [==============================] - 1s 2ms/step - loss: 0.3793 - accuracy: 0.9777 - val_loss: 0.3933 - val_accuracy: 0.9726\n",
      "Epoch 32/100\n",
      "315/315 [==============================] - 0s 2ms/step - loss: 0.3710 - accuracy: 0.9782 - val_loss: 0.3821 - val_accuracy: 0.9738\n",
      "Epoch 33/100\n",
      "315/315 [==============================] - 0s 2ms/step - loss: 0.3721 - accuracy: 0.9776 - val_loss: 0.3707 - val_accuracy: 0.9744\n",
      "Epoch 34/100\n",
      "315/315 [==============================] - 0s 2ms/step - loss: 0.3699 - accuracy: 0.9765 - val_loss: 0.3849 - val_accuracy: 0.9697\n",
      "Epoch 35/100\n",
      "315/315 [==============================] - 0s 2ms/step - loss: 0.3602 - accuracy: 0.9769 - val_loss: 0.3733 - val_accuracy: 0.9716\n",
      "Epoch 36/100\n",
      "315/315 [==============================] - 0s 2ms/step - loss: 0.3669 - accuracy: 0.9761 - val_loss: 0.3720 - val_accuracy: 0.9711\n",
      "Epoch 37/100\n",
      "315/315 [==============================] - 0s 2ms/step - loss: 0.3533 - accuracy: 0.9754 - val_loss: 0.3536 - val_accuracy: 0.9738\n",
      "Epoch 38/100\n",
      "315/315 [==============================] - 0s 2ms/step - loss: 0.3515 - accuracy: 0.9758 - val_loss: 0.3515 - val_accuracy: 0.9733\n",
      "Epoch 39/100\n",
      "315/315 [==============================] - 0s 2ms/step - loss: 0.3417 - accuracy: 0.9781 - val_loss: 0.3407 - val_accuracy: 0.9752\n",
      "Epoch 40/100\n",
      "315/315 [==============================] - 0s 2ms/step - loss: 0.3388 - accuracy: 0.9784 - val_loss: 0.3490 - val_accuracy: 0.9729\n",
      "Epoch 41/100\n",
      "315/315 [==============================] - 0s 2ms/step - loss: 0.3390 - accuracy: 0.9785 - val_loss: 0.3338 - val_accuracy: 0.9757\n",
      "Epoch 42/100\n",
      "315/315 [==============================] - 0s 2ms/step - loss: 0.3403 - accuracy: 0.9784 - val_loss: 0.3512 - val_accuracy: 0.9706\n",
      "Epoch 43/100\n",
      "315/315 [==============================] - 0s 2ms/step - loss: 0.3382 - accuracy: 0.9763 - val_loss: 0.3388 - val_accuracy: 0.9739\n",
      "Epoch 44/100\n",
      "315/315 [==============================] - 1s 2ms/step - loss: 0.3316 - accuracy: 0.9792 - val_loss: 0.3290 - val_accuracy: 0.9744\n",
      "Epoch 45/100\n",
      "315/315 [==============================] - 0s 2ms/step - loss: 0.3233 - accuracy: 0.9784 - val_loss: 0.3302 - val_accuracy: 0.9739\n",
      "Epoch 46/100\n",
      "315/315 [==============================] - 1s 2ms/step - loss: 0.3254 - accuracy: 0.9780 - val_loss: 0.3223 - val_accuracy: 0.9756\n",
      "Epoch 47/100\n",
      "315/315 [==============================] - 0s 2ms/step - loss: 0.3291 - accuracy: 0.9780 - val_loss: 0.3288 - val_accuracy: 0.9739\n",
      "Epoch 48/100\n",
      "315/315 [==============================] - 0s 2ms/step - loss: 0.3222 - accuracy: 0.9784 - val_loss: 0.3182 - val_accuracy: 0.9750\n",
      "Epoch 49/100\n",
      "315/315 [==============================] - 0s 2ms/step - loss: 0.3190 - accuracy: 0.9797 - val_loss: 0.3255 - val_accuracy: 0.9734\n",
      "Epoch 50/100\n",
      "315/315 [==============================] - 0s 2ms/step - loss: 0.3176 - accuracy: 0.9794 - val_loss: 0.3198 - val_accuracy: 0.9744\n",
      "Epoch 51/100\n",
      "315/315 [==============================] - 0s 2ms/step - loss: 0.3210 - accuracy: 0.9789 - val_loss: 0.3019 - val_accuracy: 0.9781\n",
      "Epoch 52/100\n",
      "315/315 [==============================] - 1s 2ms/step - loss: 0.3139 - accuracy: 0.9799 - val_loss: 0.3255 - val_accuracy: 0.9726\n",
      "Epoch 53/100\n",
      "315/315 [==============================] - 0s 2ms/step - loss: 0.3136 - accuracy: 0.9797 - val_loss: 0.3008 - val_accuracy: 0.9767\n",
      "Epoch 54/100\n",
      "315/315 [==============================] - 0s 2ms/step - loss: 0.3138 - accuracy: 0.9797 - val_loss: 0.3107 - val_accuracy: 0.9745\n",
      "Epoch 55/100\n",
      "315/315 [==============================] - 0s 2ms/step - loss: 0.3155 - accuracy: 0.9788 - val_loss: 0.3069 - val_accuracy: 0.9756\n",
      "Epoch 56/100\n",
      "315/315 [==============================] - 0s 2ms/step - loss: 0.3010 - accuracy: 0.9804 - val_loss: 0.2950 - val_accuracy: 0.9767\n",
      "Epoch 57/100\n",
      "315/315 [==============================] - 0s 2ms/step - loss: 0.3037 - accuracy: 0.9793 - val_loss: 0.3190 - val_accuracy: 0.9724\n",
      "Epoch 58/100\n",
      "315/315 [==============================] - 0s 2ms/step - loss: 0.3049 - accuracy: 0.9792 - val_loss: 0.2876 - val_accuracy: 0.9784\n",
      "Epoch 59/100\n",
      "315/315 [==============================] - 0s 2ms/step - loss: 0.3009 - accuracy: 0.9812 - val_loss: 0.3029 - val_accuracy: 0.9752\n",
      "Epoch 60/100\n",
      "315/315 [==============================] - 0s 2ms/step - loss: 0.2989 - accuracy: 0.9803 - val_loss: 0.2932 - val_accuracy: 0.9766\n",
      "Epoch 61/100\n",
      "315/315 [==============================] - 0s 2ms/step - loss: 0.3028 - accuracy: 0.9815 - val_loss: 0.3025 - val_accuracy: 0.9756\n",
      "Epoch 62/100\n",
      "315/315 [==============================] - 0s 2ms/step - loss: 0.2982 - accuracy: 0.9810 - val_loss: 0.3180 - val_accuracy: 0.9720\n",
      "Epoch 63/100\n",
      "315/315 [==============================] - 0s 2ms/step - loss: 0.2975 - accuracy: 0.9799 - val_loss: 0.2764 - val_accuracy: 0.9801\n",
      "Epoch 64/100\n",
      "315/315 [==============================] - 1s 2ms/step - loss: 0.3022 - accuracy: 0.9802 - val_loss: 0.2822 - val_accuracy: 0.9786\n",
      "Epoch 65/100\n",
      "315/315 [==============================] - 1s 2ms/step - loss: 0.2979 - accuracy: 0.9809 - val_loss: 0.3154 - val_accuracy: 0.9720\n",
      "Epoch 66/100\n",
      "315/315 [==============================] - 0s 2ms/step - loss: 0.2919 - accuracy: 0.9808 - val_loss: 0.3020 - val_accuracy: 0.9738\n",
      "Epoch 67/100\n",
      "315/315 [==============================] - 0s 2ms/step - loss: 0.2930 - accuracy: 0.9802 - val_loss: 0.3017 - val_accuracy: 0.9741\n",
      "Epoch 68/100\n",
      "315/315 [==============================] - 0s 2ms/step - loss: 0.2927 - accuracy: 0.9807 - val_loss: 0.3030 - val_accuracy: 0.9746\n",
      "Epoch 69/100\n",
      "315/315 [==============================] - 0s 2ms/step - loss: 0.2941 - accuracy: 0.9804 - val_loss: 0.3096 - val_accuracy: 0.9728\n",
      "Epoch 70/100\n",
      "315/315 [==============================] - 0s 2ms/step - loss: 0.2854 - accuracy: 0.9804 - val_loss: 0.3083 - val_accuracy: 0.9723\n",
      "Epoch 71/100\n",
      "315/315 [==============================] - 0s 2ms/step - loss: 0.2854 - accuracy: 0.9816 - val_loss: 0.2921 - val_accuracy: 0.9757\n",
      "Epoch 72/100\n",
      "315/315 [==============================] - 0s 2ms/step - loss: 0.2831 - accuracy: 0.9816 - val_loss: 0.2865 - val_accuracy: 0.9770\n",
      "Epoch 73/100\n",
      "315/315 [==============================] - 0s 2ms/step - loss: 0.2852 - accuracy: 0.9804 - val_loss: 0.2756 - val_accuracy: 0.9782\n",
      "Epoch 74/100\n",
      "315/315 [==============================] - 1s 2ms/step - loss: 0.2811 - accuracy: 0.9807 - val_loss: 0.2811 - val_accuracy: 0.9770\n",
      "Epoch 75/100\n",
      "315/315 [==============================] - 0s 2ms/step - loss: 0.2895 - accuracy: 0.9796 - val_loss: 0.2779 - val_accuracy: 0.9779\n",
      "Epoch 76/100\n",
      "315/315 [==============================] - 0s 2ms/step - loss: 0.2836 - accuracy: 0.9817 - val_loss: 0.2953 - val_accuracy: 0.9742\n",
      "Epoch 77/100\n",
      "315/315 [==============================] - 0s 2ms/step - loss: 0.2784 - accuracy: 0.9821 - val_loss: 0.2771 - val_accuracy: 0.9780\n",
      "Epoch 78/100\n",
      "315/315 [==============================] - 0s 2ms/step - loss: 0.2870 - accuracy: 0.9811 - val_loss: 0.2902 - val_accuracy: 0.9757\n",
      "Epoch 79/100\n",
      "315/315 [==============================] - 0s 2ms/step - loss: 0.2935 - accuracy: 0.9805 - val_loss: 0.3023 - val_accuracy: 0.9726\n",
      "Epoch 80/100\n",
      "315/315 [==============================] - 0s 2ms/step - loss: 0.2840 - accuracy: 0.9805 - val_loss: 0.2936 - val_accuracy: 0.9747\n",
      "Epoch 81/100\n",
      "315/315 [==============================] - 0s 2ms/step - loss: 0.2900 - accuracy: 0.9802 - val_loss: 0.2757 - val_accuracy: 0.9782\n",
      "Epoch 82/100\n",
      "315/315 [==============================] - 0s 2ms/step - loss: 0.2822 - accuracy: 0.9813 - val_loss: 0.2858 - val_accuracy: 0.9760\n",
      "Epoch 83/100\n",
      "315/315 [==============================] - 1s 2ms/step - loss: 0.2788 - accuracy: 0.9819 - val_loss: 0.2714 - val_accuracy: 0.9791\n",
      "Epoch 84/100\n",
      "315/315 [==============================] - 1s 2ms/step - loss: 0.2796 - accuracy: 0.9823 - val_loss: 0.2944 - val_accuracy: 0.9745\n",
      "Epoch 85/100\n",
      "315/315 [==============================] - 0s 2ms/step - loss: 0.2830 - accuracy: 0.9804 - val_loss: 0.2804 - val_accuracy: 0.9772\n",
      "Epoch 86/100\n",
      "315/315 [==============================] - 0s 2ms/step - loss: 0.2679 - accuracy: 0.9826 - val_loss: 0.2665 - val_accuracy: 0.9798\n",
      "Epoch 87/100\n",
      "315/315 [==============================] - 1s 2ms/step - loss: 0.2831 - accuracy: 0.9824 - val_loss: 0.2840 - val_accuracy: 0.9767\n",
      "Epoch 88/100\n",
      "315/315 [==============================] - 0s 2ms/step - loss: 0.2814 - accuracy: 0.9811 - val_loss: 0.2922 - val_accuracy: 0.9740\n",
      "Epoch 89/100\n",
      "315/315 [==============================] - 0s 2ms/step - loss: 0.2746 - accuracy: 0.9825 - val_loss: 0.2965 - val_accuracy: 0.9724\n",
      "Epoch 90/100\n",
      "315/315 [==============================] - 0s 2ms/step - loss: 0.2790 - accuracy: 0.9807 - val_loss: 0.2839 - val_accuracy: 0.9765\n",
      "Epoch 91/100\n",
      "315/315 [==============================] - 1s 2ms/step - loss: 0.2792 - accuracy: 0.9810 - val_loss: 0.2883 - val_accuracy: 0.9748\n",
      "Epoch 92/100\n",
      "315/315 [==============================] - 0s 2ms/step - loss: 0.2731 - accuracy: 0.9821 - val_loss: 0.2760 - val_accuracy: 0.9770\n",
      "Epoch 93/100\n",
      "315/315 [==============================] - 0s 2ms/step - loss: 0.2714 - accuracy: 0.9823 - val_loss: 0.2766 - val_accuracy: 0.9766\n",
      "Epoch 94/100\n",
      "315/315 [==============================] - 0s 2ms/step - loss: 0.2718 - accuracy: 0.9812 - val_loss: 0.2714 - val_accuracy: 0.9781\n",
      "Epoch 95/100\n",
      "315/315 [==============================] - 0s 2ms/step - loss: 0.2732 - accuracy: 0.9825 - val_loss: 0.2986 - val_accuracy: 0.9722\n",
      "Epoch 96/100\n",
      "315/315 [==============================] - 0s 2ms/step - loss: 0.2684 - accuracy: 0.9828 - val_loss: 0.2719 - val_accuracy: 0.9776\n",
      "Epoch 97/100\n",
      "315/315 [==============================] - 0s 2ms/step - loss: 0.2768 - accuracy: 0.9813 - val_loss: 0.2629 - val_accuracy: 0.9795\n",
      "Epoch 98/100\n",
      "315/315 [==============================] - 0s 2ms/step - loss: 0.2706 - accuracy: 0.9819 - val_loss: 0.2835 - val_accuracy: 0.9753\n",
      "Epoch 99/100\n",
      "315/315 [==============================] - 0s 2ms/step - loss: 0.2654 - accuracy: 0.9822 - val_loss: 0.2585 - val_accuracy: 0.9803\n",
      "Epoch 100/100\n",
      "315/315 [==============================] - 0s 2ms/step - loss: 0.2690 - accuracy: 0.9828 - val_loss: 0.2712 - val_accuracy: 0.9770\n"
     ]
    },
    {
     "data": {
      "text/plain": [
       "<keras.src.callbacks.History at 0x2ebde4190>"
      ]
     },
     "execution_count": 128,
     "metadata": {},
     "output_type": "execute_result"
    }
   ],
   "source": [
    "X_train, X_test, y_train, y_test = train_test_split(X_transformed, Y, test_size=0.33, random_state=42, stratify=Y)\n",
    "model.fit(X_train, y_train, epochs=100, batch_size=128, validation_data=(X_test, y_test), class_weight=cw)"
   ]
  },
  {
   "cell_type": "code",
   "execution_count": 132,
   "metadata": {},
   "outputs": [
    {
     "name": "stdout",
     "output_type": "stream",
     "text": [
      "619/619 [==============================] - 0s 331us/step\n",
      "              precision    recall  f1-score   support\n",
      "\n",
      "           0       0.99      0.58      0.74     19470\n",
      "           1       0.03      0.78      0.06       330\n",
      "\n",
      "    accuracy                           0.59     19800\n",
      "   macro avg       0.51      0.68      0.40     19800\n",
      "weighted avg       0.98      0.59      0.72     19800\n",
      "\n",
      "[[11369  8101]\n",
      " [   71   259]]\n"
     ]
    }
   ],
   "source": [
    "y_pred = model.predict(X_test)\n",
    "y_pred = np.round(y_pred)\n",
    "\n",
    "print(classification_report(y_test, y_pred))\n",
    "\n",
    "print(confusion_matrix(y_test, y_pred))"
   ]
  },
  {
   "cell_type": "code",
   "execution_count": null,
   "metadata": {},
   "outputs": [],
   "source": []
  },
  {
   "cell_type": "code",
   "execution_count": 130,
   "metadata": {},
   "outputs": [
    {
     "name": "stdout",
     "output_type": "stream",
     "text": [
      "500/500 [==============================] - 0s 343us/step\n"
     ]
    }
   ],
   "source": [
    "#use test set to predict\n",
    "X = test_df[num_cat_cols].replace('na', 0).astype(float).values\n",
    "X_transformed = StandardScaler().fit_transform(X)\n",
    "y_pred_ = model.predict(X_transformed)\n",
    "y_pred_ = np.round(y_pred_)\n",
    "\n",
    "\n"
   ]
  },
  {
   "cell_type": "code",
   "execution_count": 102,
   "metadata": {},
   "outputs": [
    {
     "data": {
      "text/plain": [
       "(16000,)"
      ]
     },
     "execution_count": 102,
     "metadata": {},
     "output_type": "execute_result"
    }
   ],
   "source": [
    "y_pred_.reshape(-1).shape"
   ]
  },
  {
   "cell_type": "code",
   "execution_count": 103,
   "metadata": {},
   "outputs": [],
   "source": [
    "output = pd.DataFrame({'id': np.arange(1,len(y_pred_.reshape(-1))+1),\"class\": labelize(y_pred_.reshape(-1))})\n",
    "output.to_csv('categorical+relevant numerical values standardized neural network, output.csv', index=False)"
   ]
  },
  {
   "cell_type": "code",
   "execution_count": 131,
   "metadata": {},
   "outputs": [
    {
     "name": "stderr",
     "output_type": "stream",
     "text": [
      "/Users/firatkizilboga/Projects/LFD/APS-Failure-Prediction/.venv/lib/python3.11/site-packages/keras/src/optimizers/legacy/adam.py:118: UserWarning: The `lr` argument is deprecated, use `learning_rate` instead.\n",
      "  super().__init__(name, **kwargs)\n"
     ]
    }
   ],
   "source": [
    "model = Sequential()\n",
    "\n",
    "model.add(Dense(64, input_dim=X_transformed.shape[1],\n",
    "                activation='relu',\n",
    "                kernel_regularizer=regularizers.l2(0.01),\n",
    "                activity_regularizer=regularizers.l1(0.01)))\n",
    "model.add(Dropout(0.3))\n",
    "model.add(Dense(64, activation='relu',\n",
    "                kernel_regularizer=regularizers.l2(0.01),\n",
    "                activity_regularizer=regularizers.l1(0.01)))\n",
    "model.add(Dropout(0.3))\n",
    "model.add(Dense(32, activation='relu',\n",
    "                kernel_regularizer=regularizers.l2(0.01),\n",
    "                activity_regularizer=regularizers.l1(0.01)))\n",
    "model.add(Dropout(0.3))\n",
    "model.add(Dense(32, activation='relu',\n",
    "                kernel_regularizer=regularizers.l2(0.01),\n",
    "                activity_regularizer=regularizers.l1(0.01)))\n",
    "model.add(Dropout(0.3))\n",
    "model.add(Dense(32, activation='relu',\n",
    "                kernel_regularizer=regularizers.l2(0.01),\n",
    "                activity_regularizer=regularizers.l1(0.01)))\n",
    "model.add(Dropout(0.3))\n",
    "model.add(Dense(32, activation='relu',\n",
    "                kernel_regularizer=regularizers.l2(0.01),\n",
    "                activity_regularizer=regularizers.l1(0.01)))\n",
    "model.add(Dropout(0.3))\n",
    "model.add(Dense(32, activation='relu',\n",
    "                kernel_regularizer=regularizers.l2(0.01),\n",
    "                activity_regularizer=regularizers.l1(0.01)))\n",
    "model.add(Dropout(0.3))\n",
    "model.add(Dense(1, activation='sigmoid'))\n",
    "\n",
    "adam = Adam(lr=0.00001, beta_1=0.9, beta_2=0.999, epsilon=1e-8)\n"
   ]
  },
  {
   "cell_type": "code",
   "execution_count": 105,
   "metadata": {},
   "outputs": [],
   "source": [
    "from sklearn.utils import class_weight\n",
    "class_weights = class_weight.compute_class_weight(classes=np.unique(Y), y=Y, class_weight='balanced')\n",
    "X = train_df[num_cat_cols].replace('na', 0).astype(float).values\n",
    "X_transformed = StandardScaler().fit_transform(X)\n",
    "cw = {0: float(class_weights[0]), 1: float(class_weights[1])}\n",
    "X_train, X_test, y_train, y_test = train_test_split(X_transformed, Y, test_size=0.33, random_state=42, stratify=Y)"
   ]
  },
  {
   "cell_type": "code",
   "execution_count": 106,
   "metadata": {},
   "outputs": [
    {
     "data": {
      "text/plain": [
       "16769"
      ]
     },
     "execution_count": 106,
     "metadata": {},
     "output_type": "execute_result"
    }
   ],
   "source": [
    "model.count_params()"
   ]
  },
  {
   "cell_type": "code",
   "execution_count": 107,
   "metadata": {},
   "outputs": [
    {
     "name": "stdout",
     "output_type": "stream",
     "text": [
      "619/619 [==============================] - 0s 321us/step\n",
      "              precision    recall  f1-score   support\n",
      "\n",
      "           0       0.98      0.98      0.98     19470\n",
      "           1       0.01      0.01      0.01       330\n",
      "\n",
      "    accuracy                           0.96     19800\n",
      "   macro avg       0.50      0.49      0.50     19800\n",
      "weighted avg       0.97      0.96      0.97     19800\n",
      "\n",
      "[[19088   382]\n",
      " [  327     3]]\n"
     ]
    }
   ],
   "source": [
    "y_pred = model.predict(X_test)\n",
    "y_pred = np.round(y_pred)\n",
    "\n",
    "print(classification_report(y_test, y_pred))\n",
    "\n",
    "print(confusion_matrix(y_test, y_pred))"
   ]
  },
  {
   "cell_type": "code",
   "execution_count": 108,
   "metadata": {},
   "outputs": [
    {
     "data": {
      "text/plain": [
       "500"
      ]
     },
     "execution_count": 108,
     "metadata": {},
     "output_type": "execute_result"
    }
   ],
   "source": [
    "500 "
   ]
  },
  {
   "cell_type": "code",
   "execution_count": 109,
   "metadata": {},
   "outputs": [
    {
     "name": "stdout",
     "output_type": "stream",
     "text": [
      "500/500 [==============================] - 0s 323us/step\n"
     ]
    }
   ],
   "source": [
    "#use test set to predict\n",
    "X = test_df[num_cat_cols].replace('na', 0).astype(float).values\n",
    "X_transformed = StandardScaler().fit_transform(X)\n",
    "y_pred_ = model.predict(X_transformed)\n",
    "y_pred_ = np.round(y_pred_)\n",
    "output = pd.DataFrame({'id': np.arange(1,len(y_pred_.reshape(-1))+1),\"class\": labelize(y_pred_.reshape(-1))})\n",
    "\n",
    "output.to_csv('categorical+relevant numerical values standardized neural network with weighted binary crossentropy, output.csv', index=False)"
   ]
  },
  {
   "cell_type": "code",
   "execution_count": 110,
   "metadata": {},
   "outputs": [
    {
     "data": {
      "text/plain": [
       "15060"
      ]
     },
     "execution_count": 110,
     "metadata": {},
     "output_type": "execute_result"
    }
   ],
   "source": [
    "5060 + 20 * 500"
   ]
  },
  {
   "cell_type": "code",
   "execution_count": 111,
   "metadata": {},
   "outputs": [
    {
     "data": {
      "text/plain": [
       "44030"
      ]
     },
     "execution_count": 111,
     "metadata": {},
     "output_type": "execute_result"
    }
   ],
   "source": [
    "86 *500 + 103 * 10"
   ]
  },
  {
   "cell_type": "code",
   "execution_count": null,
   "metadata": {},
   "outputs": [],
   "source": []
  }
 ],
 "metadata": {
  "kernelspec": {
   "display_name": ".venv",
   "language": "python",
   "name": "python3"
  },
  "language_info": {
   "codemirror_mode": {
    "name": "ipython",
    "version": 3
   },
   "file_extension": ".py",
   "mimetype": "text/x-python",
   "name": "python",
   "nbconvert_exporter": "python",
   "pygments_lexer": "ipython3",
   "version": "3.11.4"
  }
 },
 "nbformat": 4,
 "nbformat_minor": 2
}
